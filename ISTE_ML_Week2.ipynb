{
  "nbformat": 4,
  "nbformat_minor": 0,
  "metadata": {
    "colab": {
      "name": "ISTE_ML_Week2.ipynb",
      "provenance": [],
      "collapsed_sections": [],
      "authorship_tag": "ABX9TyO550ZLukAZsUCc/kzYzY1q",
      "include_colab_link": true
    },
    "kernelspec": {
      "name": "python3",
      "display_name": "Python 3"
    },
    "language_info": {
      "name": "python"
    }
  },
  "cells": [
    {
      "cell_type": "markdown",
      "metadata": {
        "id": "view-in-github",
        "colab_type": "text"
      },
      "source": [
        "<a href=\"https://colab.research.google.com/github/AmithPenumudi/ISTE_ML/blob/main/ISTE_ML_Week2.ipynb\" target=\"_parent\"><img src=\"https://colab.research.google.com/assets/colab-badge.svg\" alt=\"Open In Colab\"/></a>"
      ]
    },
    {
      "cell_type": "markdown",
      "metadata": {
        "id": "jIINqTZYDlOS"
      },
      "source": [
        "**WEEK-2** Assigment"
      ]
    },
    {
      "cell_type": "markdown",
      "metadata": {
        "id": "9zXNMXZ2DrfW"
      },
      "source": [
        "Question-1"
      ]
    },
    {
      "cell_type": "code",
      "metadata": {
        "id": "TTBovHqHFsLQ"
      },
      "source": [
        "import numpy as np\n",
        "import matplotlib.pyplot as plt"
      ],
      "execution_count": 43,
      "outputs": []
    },
    {
      "cell_type": "code",
      "metadata": {
        "id": "gR8Eav5bFxk4"
      },
      "source": [
        "def estimate_coeff(per,hr):\n",
        "  n=np.size(per)\n",
        "\n",
        "  m_per=np.mean(per)\n",
        "  m_hr=np.mean(hr)\n",
        "  \n",
        "  SS_per_hr=np.sum(per*hr)-n*m_per*m_hr\n",
        "  SS_per_per=np.sum(per*per)-n*m_per*m_hr\n",
        "  k_1=SS_per_hr/SS_per_per\n",
        "  k_0=m_hr-k_1*m_per\n",
        "  return(k_0,k_1)"
      ],
      "execution_count": 44,
      "outputs": []
    },
    {
      "cell_type": "code",
      "metadata": {
        "id": "XafEJpD0Gmhh"
      },
      "source": [
        "def plot_regression(per,hr,k):\n",
        "  plt.scatter(per,hr,color=\"blue\",marker=\"o\",s=30)\n",
        "  hr_pred=k[0]+k[1]*per\n",
        "  plt.plot(per,hr_pred,color=\"red\")\n",
        "  plt.xlabel('per')\n",
        "  plt.ylabel('hr')\n",
        "  plt.show()"
      ],
      "execution_count": 45,
      "outputs": []
    },
    {
      "cell_type": "code",
      "metadata": {
        "colab": {
          "base_uri": "https://localhost:8080/",
          "height": 329
        },
        "id": "3BvyFQVfDs8g",
        "outputId": "22fd3de3-0b8b-4961-a5eb-409fabae5a46"
      },
      "source": [
        "#def main():\n",
        "per=np.array([0,10,20,30,40,50,60,70,80,90])\n",
        "hr=np.array([1,3,2,5,7,8,8,9,10,12])\n",
        "k=estimate_coeff(per,hr)\n",
        "print(\"Estimated coefficinets:\\n m={}\\n c={}\".format(k[0],k[1]))\n",
        "\n",
        "plot_regression(per,hr,k) \n",
        "\n",
        "#if __name__==\"__main__\":\n",
        "#  main()\n"
      ],
      "execution_count": 46,
      "outputs": [
        {
          "output_type": "stream",
          "text": [
            "Estimated coefficinets:\n",
            " m=4.802052785923753\n",
            " c=0.03773216031280548\n"
          ],
          "name": "stdout"
        },
        {
          "output_type": "display_data",
          "data": {
            "image/png": "[encoded data removed]",
            "text/plain": [
              "<Figure size 432x288 with 1 Axes>"
            ]
          },
          "metadata": {
            "tags": [],
            "needs_background": "light"
          }
        }
      ]
    },
    {
      "cell_type": "markdown",
      "metadata": {
        "id": "MVq-41TBJ8jc"
      },
      "source": [
        "Question-2"
      ]
    },
    {
      "cell_type": "code",
      "metadata": {
        "id": "n5scSzuHJ-q0"
      },
      "source": [
        "import numpy as np\n",
        "import matplotlib.pyplot as plt"
      ],
      "execution_count": 47,
      "outputs": []
    },
    {
      "cell_type": "code",
      "metadata": {
        "colab": {
          "base_uri": "https://localhost:8080/",
          "height": 295
        },
        "id": "SKuRLtQSKXtt",
        "outputId": "de71afed-0e33-4832-aece-ae567e4765d7"
      },
      "source": [
        "Level=[1,2,3,4,5,6,7,8,9,10]\n",
        "Salary=[45000,50000,60000,80000,110000,150000,200000,300000,500000,100000]\n",
        "degree=2\n",
        "poly_fit=np.poly1d(np.polyfit(X,Y,degree))\n",
        "\n",
        "xx=np.linspace(0,26,100)\n",
        "plt.plot(xx,poly_fit(xx),c='g',linestyle=\"-\")\n",
        "plt.title('Level Vs Salary')\n",
        "plt.xlabel(\"Level\")\n",
        "plt.ylabel(\"Salary\")\n",
        "plt.axis([0,10,0,1000000])\n",
        "plt.grid(True)\n",
        "plt.scatter(Level,Salary)\n",
        "plt.show()"
      ],
      "execution_count": 51,
      "outputs": [
        {
          "output_type": "display_data",
          "data": {
            "image/png": "[encoded data removed]",
            "text/plain": [
              "<Figure size 432x288 with 1 Axes>"
            ]
          },
          "metadata": {
            "tags": [],
            "needs_background": "light"
          }
        }
      ]
    },
    {
      "cell_type": "markdown",
      "metadata": {
        "id": "tGGi6-J_TyXq"
      },
      "source": [
        "Question-3"
      ]
    },
    {
      "cell_type": "code",
      "metadata": {
        "id": "szL9lqsOPMRn"
      },
      "source": [
        "import numpy as np\n",
        "import pandas as pd"
      ],
      "execution_count": 49,
      "outputs": []
    },
    {
      "cell_type": "code",
      "metadata": {
        "colab": {
          "base_uri": "https://localhost:8080/",
          "height": 404
        },
        "id": "GQlRkj24PLTU",
        "outputId": "467d4deb-668e-43d2-c980-e312ca3e80f8"
      },
      "source": [
        "df=pd.read_csv(\"Q3 FISH.txt\",encoding='utf-16',sep='\\t')\n",
        "df"
      ],
      "execution_count": 50,
      "outputs": [
        {
          "output_type": "execute_result",
          "data": {
            "text/html": [
              "<div>\n",
              "<style scoped>\n",
              "    .dataframe tbody tr th:only-of-type {\n",
              "        vertical-align: middle;\n",
              "    }\n",
              "\n",
              "    .dataframe tbody tr th {\n",
              "        vertical-align: top;\n",
              "    }\n",
              "\n",
              "    .dataframe thead th {\n",
              "        text-align: right;\n",
              "    }\n",
              "</style>\n",
              "<table border=\"1\" class=\"dataframe\">\n",
              "  <thead>\n",
              "    <tr style=\"text-align: right;\">\n",
              "      <th></th>\n",
              "      <th>Species</th>\n",
              "      <th>Weight</th>\n",
              "      <th>Length1</th>\n",
              "      <th>Length2</th>\n",
              "      <th>Length3</th>\n",
              "      <th>Height</th>\n",
              "      <th>Width</th>\n",
              "    </tr>\n",
              "  </thead>\n",
              "  <tbody>\n",
              "    <tr>\n",
              "      <th>0</th>\n",
              "      <td>Bream</td>\n",
              "      <td>242.0</td>\n",
              "      <td>23.2</td>\n",
              "      <td>25.4</td>\n",
              "      <td>30.0</td>\n",
              "      <td>11.5200</td>\n",
              "      <td>4.0200</td>\n",
              "    </tr>\n",
              "    <tr>\n",
              "      <th>1</th>\n",
              "      <td>Bream</td>\n",
              "      <td>290.0</td>\n",
              "      <td>24.0</td>\n",
              "      <td>26.3</td>\n",
              "      <td>31.2</td>\n",
              "      <td>12.4800</td>\n",
              "      <td>4.3056</td>\n",
              "    </tr>\n",
              "    <tr>\n",
              "      <th>2</th>\n",
              "      <td>Bream</td>\n",
              "      <td>340.0</td>\n",
              "      <td>23.9</td>\n",
              "      <td>26.5</td>\n",
              "      <td>31.1</td>\n",
              "      <td>12.3778</td>\n",
              "      <td>4.6961</td>\n",
              "    </tr>\n",
              "    <tr>\n",
              "      <th>3</th>\n",
              "      <td>Bream</td>\n",
              "      <td>363.0</td>\n",
              "      <td>26.3</td>\n",
              "      <td>29.0</td>\n",
              "      <td>33.5</td>\n",
              "      <td>12.7300</td>\n",
              "      <td>4.4555</td>\n",
              "    </tr>\n",
              "    <tr>\n",
              "      <th>4</th>\n",
              "      <td>Bream</td>\n",
              "      <td>430.0</td>\n",
              "      <td>26.5</td>\n",
              "      <td>29.0</td>\n",
              "      <td>34.0</td>\n",
              "      <td>12.4440</td>\n",
              "      <td>5.1340</td>\n",
              "    </tr>\n",
              "    <tr>\n",
              "      <th>...</th>\n",
              "      <td>...</td>\n",
              "      <td>...</td>\n",
              "      <td>...</td>\n",
              "      <td>...</td>\n",
              "      <td>...</td>\n",
              "      <td>...</td>\n",
              "      <td>...</td>\n",
              "    </tr>\n",
              "    <tr>\n",
              "      <th>154</th>\n",
              "      <td>Smelt</td>\n",
              "      <td>12.2</td>\n",
              "      <td>11.5</td>\n",
              "      <td>12.2</td>\n",
              "      <td>13.4</td>\n",
              "      <td>2.0904</td>\n",
              "      <td>1.3936</td>\n",
              "    </tr>\n",
              "    <tr>\n",
              "      <th>155</th>\n",
              "      <td>Smelt</td>\n",
              "      <td>13.4</td>\n",
              "      <td>11.7</td>\n",
              "      <td>12.4</td>\n",
              "      <td>13.5</td>\n",
              "      <td>2.4300</td>\n",
              "      <td>1.2690</td>\n",
              "    </tr>\n",
              "    <tr>\n",
              "      <th>156</th>\n",
              "      <td>Smelt</td>\n",
              "      <td>12.2</td>\n",
              "      <td>12.1</td>\n",
              "      <td>13.0</td>\n",
              "      <td>13.8</td>\n",
              "      <td>2.2770</td>\n",
              "      <td>1.2558</td>\n",
              "    </tr>\n",
              "    <tr>\n",
              "      <th>157</th>\n",
              "      <td>Smelt</td>\n",
              "      <td>19.7</td>\n",
              "      <td>13.2</td>\n",
              "      <td>14.3</td>\n",
              "      <td>15.2</td>\n",
              "      <td>2.8728</td>\n",
              "      <td>2.0672</td>\n",
              "    </tr>\n",
              "    <tr>\n",
              "      <th>158</th>\n",
              "      <td>Smelt</td>\n",
              "      <td>19.9</td>\n",
              "      <td>13.8</td>\n",
              "      <td>15.0</td>\n",
              "      <td>16.2</td>\n",
              "      <td>2.9322</td>\n",
              "      <td>1.8792</td>\n",
              "    </tr>\n",
              "  </tbody>\n",
              "</table>\n",
              "<p>159 rows × 7 columns</p>\n",
              "</div>"
            ],
            "text/plain": [
              "    Species  Weight  Length1  Length2  Length3   Height   Width\n",
              "0     Bream   242.0     23.2     25.4     30.0  11.5200  4.0200\n",
              "1     Bream   290.0     24.0     26.3     31.2  12.4800  4.3056\n",
              "2     Bream   340.0     23.9     26.5     31.1  12.3778  4.6961\n",
              "3     Bream   363.0     26.3     29.0     33.5  12.7300  4.4555\n",
              "4     Bream   430.0     26.5     29.0     34.0  12.4440  5.1340\n",
              "..      ...     ...      ...      ...      ...      ...     ...\n",
              "154   Smelt    12.2     11.5     12.2     13.4   2.0904  1.3936\n",
              "155   Smelt    13.4     11.7     12.4     13.5   2.4300  1.2690\n",
              "156   Smelt    12.2     12.1     13.0     13.8   2.2770  1.2558\n",
              "157   Smelt    19.7     13.2     14.3     15.2   2.8728  2.0672\n",
              "158   Smelt    19.9     13.8     15.0     16.2   2.9322  1.8792\n",
              "\n",
              "[159 rows x 7 columns]"
            ]
          },
          "metadata": {
            "tags": []
          },
          "execution_count": 50
        }
      ]
    },
    {
      "cell_type": "markdown",
      "metadata": {
        "id": "Ub5P8xAwzYS9"
      },
      "source": [
        " For estimating the weightof weight of fish, the best regression model is linear regression.\n",
        "\n",
        " As Weight, is highly correlated with all of the other numerical features.\n",
        " There continues to be strong linear relationships between our response variable, Weight, and all the features generally.There are strong linear relationships between Weight and each of the features by Species.\n",
        "\n",
        "\n",
        "\n"
      ]
    }
  ]
}