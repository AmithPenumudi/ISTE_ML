{
  "nbformat": 4,
  "nbformat_minor": 0,
  "metadata": {
    "colab": {
      "name": "ISTE_ML_Week1.ipynb",
      "provenance": [],
      "authorship_tag": "ABX9TyM+yvN6uS7a4uZ90xMNmDMU",
      "include_colab_link": true
    },
    "kernelspec": {
      "name": "python3",
      "display_name": "Python 3"
    },
    "language_info": {
      "name": "python"
    }
  },
  "cells": [
    {
      "cell_type": "markdown",
      "metadata": {
        "id": "view-in-github",
        "colab_type": "text"
      },
      "source": [
        "<a href=\"https://colab.research.google.com/github/AmithPenumudi/ISTE_ML/blob/main/ISTE_ML_Week1.ipynb\" target=\"_parent\"><img src=\"https://colab.research.google.com/assets/colab-badge.svg\" alt=\"Open In Colab\"/></a>"
      ]
    },
    {
      "cell_type": "markdown",
      "metadata": {
        "id": "8y0ImbC9r5kQ"
      },
      "source": [
        "**WEEK-1**  Assignment "
      ]
    },
    {
      "cell_type": "markdown",
      "metadata": {
        "id": "hDmFX7JAsAJk"
      },
      "source": [
        "Question-1 (Chi square method )"
      ]
    },
    {
      "cell_type": "code",
      "metadata": {
        "id": "N-bjKePLr4WE"
      },
      "source": [
        "import pandas as pd\n",
        "from scipy.stats import chi2_contingency\n",
        "import io"
      ],
      "execution_count": 351,
      "outputs": []
    },
    {
      "cell_type": "code",
      "metadata": {
        "id": "VDmOTsu_sWcF"
      },
      "source": [
        "dataset=pd.read_csv('Titanic_ISTE.csv')\n",
        "df=pd.DataFrame(dataset)"
      ],
      "execution_count": 352,
      "outputs": []
    },
    {
      "cell_type": "code",
      "metadata": {
        "colab": {
          "base_uri": "https://localhost:8080/"
        },
        "id": "pAgxR_yEtvFD",
        "outputId": "c9648630-d116-471f-c31e-a976038cff7f"
      },
      "source": [
        "Result=pd.crosstab(index=df['Survived'],columns=df['Pclass'])\n",
        "print(Result)\n",
        "CSResult=chi2_contingency(Result)\n",
        "print('The P-Value of the ChiSq Test is:', CSResult[1])"
      ],
      "execution_count": 353,
      "outputs": [
        {
          "output_type": "stream",
          "text": [
            "Pclass    1.0  2.0  3.0\n",
            "Survived               \n",
            "0.0        80   97  371\n",
            "1.0       136   87  117\n",
            "The P-Value of the ChiSq Test is: 2.2842186475599623e-23\n"
          ],
          "name": "stdout"
        }
      ]
    },
    {
      "cell_type": "code",
      "metadata": {
        "colab": {
          "base_uri": "https://localhost:8080/"
        },
        "id": "Jq839aK3vDWn",
        "outputId": "b0dcaafd-adf4-49bb-f5e0-80a6380f6d5f"
      },
      "source": [
        "Result=pd.crosstab(index=df['Survived'],columns=df['Name'])\n",
        "print(Result)\n",
        "CSResult=chi2_contingency(Result)\n",
        "print('The P-Value of the ChiSq Test is:', CSResult[1])"
      ],
      "execution_count": 354,
      "outputs": [
        {
          "output_type": "stream",
          "text": [
            "Name      Abbing, Mr. Anthony  ...  van Melkebeke, Mr. Philemon\n",
            "Survived                       ...                             \n",
            "0.0                         1  ...                            1\n",
            "1.0                         0  ...                            0\n",
            "\n",
            "[2 rows x 889 columns]\n",
            "The P-Value of the ChiSq Test is: 0.48423044114425606\n"
          ],
          "name": "stdout"
        }
      ]
    },
    {
      "cell_type": "code",
      "metadata": {
        "colab": {
          "base_uri": "https://localhost:8080/"
        },
        "id": "q_PtJEPivtdi",
        "outputId": "e703f817-19be-44e2-80bd-4311283348fc"
      },
      "source": [
        "Result=pd.crosstab(index=df['Survived'],columns=df['Sex'])\n",
        "print(Result)\n",
        "CSResult=chi2_contingency(Result)\n",
        "print('The P-Value of the ChiSq Test is:', CSResult[1])"
      ],
      "execution_count": 355,
      "outputs": [
        {
          "output_type": "stream",
          "text": [
            "Sex       female  male\n",
            "Survived              \n",
            "0.0           81   460\n",
            "1.0          230   108\n",
            "The P-Value of the ChiSq Test is: 3.487741570629795e-57\n"
          ],
          "name": "stdout"
        }
      ]
    },
    {
      "cell_type": "code",
      "metadata": {
        "colab": {
          "base_uri": "https://localhost:8080/"
        },
        "id": "Vw3stLqXvw1j",
        "outputId": "3db6ddd4-61ba-474a-fc42-b4b04a714780"
      },
      "source": [
        "Result=pd.crosstab(index=df['Survived'],columns=df['Age'])\n",
        "print(Result)\n",
        "CSResult=chi2_contingency(Result)\n",
        "print('The P-Value of the ChiSq Test is:', CSResult[1])"
      ],
      "execution_count": 356,
      "outputs": [
        {
          "output_type": "stream",
          "text": [
            "Age       0.42   0.67   0.75   0.83   0.92   ...  70.00  70.50  71.00  74.00  80.00\n",
            "Survived                                     ...                                   \n",
            "0.0           0      0      0      0      0  ...      2      1      2      1      0\n",
            "1.0           1      1      2      2      1  ...      0      0      0      0      1\n",
            "\n",
            "[2 rows x 88 columns]\n",
            "The P-Value of the ChiSq Test is: 0.08371525224381583\n"
          ],
          "name": "stdout"
        }
      ]
    },
    {
      "cell_type": "code",
      "metadata": {
        "colab": {
          "base_uri": "https://localhost:8080/"
        },
        "id": "cYNPdbljvzxG",
        "outputId": "fd9426b3-81c9-4161-a64b-2962af2b9445"
      },
      "source": [
        "Result=pd.crosstab(index=df['Survived'],columns=df['SibSp'])\n",
        "print(Result)\n",
        "CSResult=chi2_contingency(Result)\n",
        "print('The P-Value of the ChiSq Test is:', CSResult[1])"
      ],
      "execution_count": 357,
      "outputs": [
        {
          "output_type": "stream",
          "text": [
            "SibSp     0.0  1.0  2.0  3.0  4.0  5.0  8.0\n",
            "Survived                                   \n",
            "0.0       398   97   15   12   15    4    7\n",
            "1.0       209  112   13    3    3    0    0\n",
            "The P-Value of the ChiSq Test is: 1.2168985272205958e-06\n"
          ],
          "name": "stdout"
        }
      ]
    },
    {
      "cell_type": "code",
      "metadata": {
        "colab": {
          "base_uri": "https://localhost:8080/"
        },
        "id": "Sc6xzY-7v3Xk",
        "outputId": "6c6db0c6-31a2-4038-c8fb-915d86a41520"
      },
      "source": [
        "Result=pd.crosstab(index=df['Survived'],columns=df['Parch'])\n",
        "print(Result)\n",
        "CSResult=chi2_contingency(Result)\n",
        "print('The P-Value of the ChiSq Test is:', CSResult[1])"
      ],
      "execution_count": 358,
      "outputs": [
        {
          "output_type": "stream",
          "text": [
            "Parch     0.0  1.0  2.0  3.0  4.0  5.0  6.0\n",
            "Survived                                   \n",
            "0.0       444   53   40    2    4    4    1\n",
            "1.0       231   64   40    3    0    1    0\n",
            "The P-Value of the ChiSq Test is: 0.00011516516080127263\n"
          ],
          "name": "stdout"
        }
      ]
    },
    {
      "cell_type": "code",
      "metadata": {
        "colab": {
          "base_uri": "https://localhost:8080/"
        },
        "id": "yC5baesIv7ws",
        "outputId": "7ad2072e-8d4b-4738-d156-0bf251b17b2c"
      },
      "source": [
        "Result=pd.crosstab(index=df['Survived'],columns=df['Ticket'])\n",
        "print(Result)\n",
        "CSResult=chi2_contingency(Result)\n",
        "print('The P-Value of the ChiSq Test is:', CSResult[1])"
      ],
      "execution_count": 359,
      "outputs": [
        {
          "output_type": "stream",
          "text": [
            "Ticket    110152  110413  110465  ...  W.E.P. 5734  W/C 14208  WE/P 5735\n",
            "Survived                          ...                                   \n",
            "0.0            0       1       2  ...            1          1          1\n",
            "1.0            3       2       0  ...            0          0          1\n",
            "\n",
            "[2 rows x 680 columns]\n",
            "The P-Value of the ChiSq Test is: 0.010787239234576276\n"
          ],
          "name": "stdout"
        }
      ]
    },
    {
      "cell_type": "code",
      "metadata": {
        "colab": {
          "base_uri": "https://localhost:8080/"
        },
        "id": "XM-e3Kx1v-tH",
        "outputId": "61712b1d-29c7-45a0-8f3f-4411c016abc0"
      },
      "source": [
        "Result=pd.crosstab(index=df['Survived'],columns=df['Fare'])\n",
        "print(Result)\n",
        "CSResult=chi2_contingency(Result)\n",
        "print('The P-Value of the ChiSq Test is:', CSResult[1])"
      ],
      "execution_count": 360,
      "outputs": [
        {
          "output_type": "stream",
          "text": [
            "Fare      0.0000    4.0125    5.0000    ...  262.3750  263.0000  512.3292\n",
            "Survived                                ...                              \n",
            "0.0             14         1         1  ...         0         2         0\n",
            "1.0              1         0         0  ...         2         2         3\n",
            "\n",
            "[2 rows x 248 columns]\n",
            "The P-Value of the ChiSq Test is: 8.966050015695972e-12\n"
          ],
          "name": "stdout"
        }
      ]
    },
    {
      "cell_type": "code",
      "metadata": {
        "colab": {
          "base_uri": "https://localhost:8080/"
        },
        "id": "2Wyb7YevwDcj",
        "outputId": "6889df21-5b0a-495c-8dd8-242a356d865a"
      },
      "source": [
        "Result=pd.crosstab(index=df['Survived'],columns=df['Cabin'])\n",
        "print(Result)\n",
        "CSResult=chi2_contingency(Result)\n",
        "print('The P-Value of the ChiSq Test is:', CSResult[1])"
      ],
      "execution_count": 361,
      "outputs": [
        {
          "output_type": "stream",
          "text": [
            "Cabin     A10  A14  A16  A19  A20  A23  A24  ...  F G73  F2  F33  F38  F4  G6  T\n",
            "Survived                                     ...                                \n",
            "0.0         1    1    0    1    0    0    1  ...      2   1    0    1   0   2  1\n",
            "1.0         0    0    1    0    1    1    0  ...      0   2    3    0   2   2  0\n",
            "\n",
            "[2 rows x 147 columns]\n",
            "The P-Value of the ChiSq Test is: 0.18357354976388165\n"
          ],
          "name": "stdout"
        }
      ]
    },
    {
      "cell_type": "code",
      "metadata": {
        "colab": {
          "base_uri": "https://localhost:8080/"
        },
        "id": "F5raXxvFwGe9",
        "outputId": "38fcf878-6e68-4f8b-a1db-52982e8e7c38"
      },
      "source": [
        "Result=pd.crosstab(index=df['Survived'],columns=df['Embarked'])\n",
        "print(Result)\n",
        "CSResult=chi2_contingency(Result)\n",
        "print('The P-Value of the ChiSq Test is:', CSResult[1])"
      ],
      "execution_count": 362,
      "outputs": [
        {
          "output_type": "stream",
          "text": [
            "Embarked   C   Q    S\n",
            "Survived             \n",
            "0.0       75  47  427\n",
            "1.0       92  30  216\n",
            "The P-Value of the ChiSq Test is: 2.258211542054125e-06\n"
          ],
          "name": "stdout"
        }
      ]
    },
    {
      "cell_type": "code",
      "metadata": {
        "colab": {
          "base_uri": "https://localhost:8080/"
        },
        "id": "1sMA_SqDwLu7",
        "outputId": "fcd27d8c-1639-4d6c-f379-e7dc496462bc"
      },
      "source": [
        "Result=pd.crosstab(index=df['Pclass'],columns=df['Name'])\n",
        "print(Result)\n",
        "CSResult=chi2_contingency(Result)\n",
        "print('The P-Value of the ChiSq Test is:', CSResult[1])"
      ],
      "execution_count": 363,
      "outputs": [
        {
          "output_type": "stream",
          "text": [
            "Name    Abbing, Mr. Anthony  ...  van Melkebeke, Mr. Philemon\n",
            "Pclass                       ...                             \n",
            "1.0                       0  ...                            0\n",
            "2.0                       0  ...                            0\n",
            "3.0                       1  ...                            1\n",
            "\n",
            "[3 rows x 890 columns]\n",
            "The P-Value of the ChiSq Test is: 0.4821711234714212\n"
          ],
          "name": "stdout"
        }
      ]
    },
    {
      "cell_type": "code",
      "metadata": {
        "colab": {
          "base_uri": "https://localhost:8080/"
        },
        "id": "NdTxG-uWwQlc",
        "outputId": "2c8d26a9-502c-4a4b-afdb-e1851b864003"
      },
      "source": [
        "Result=pd.crosstab(index=df['Pclass'],columns=df['Sex'])\n",
        "print(Result)\n",
        "CSResult=chi2_contingency(Result)\n",
        "print('The P-Value of the ChiSq Test is:', CSResult[1])"
      ],
      "execution_count": 364,
      "outputs": [
        {
          "output_type": "stream",
          "text": [
            "Sex     female  male\n",
            "Pclass              \n",
            "1.0         93   121\n",
            "2.0         75   107\n",
            "3.0        144   340\n",
            "The P-Value of the ChiSq Test is: 0.0004305463313818289\n"
          ],
          "name": "stdout"
        }
      ]
    },
    {
      "cell_type": "code",
      "metadata": {
        "colab": {
          "base_uri": "https://localhost:8080/"
        },
        "id": "JxsuzQiXwXV0",
        "outputId": "6c8ca86d-4f0c-46df-d28a-032d37344131"
      },
      "source": [
        "Result=pd.crosstab(index=df['Pclass'],columns=df['Age'])\n",
        "print(Result)\n",
        "CSResult=chi2_contingency(Result)\n",
        "print('The P-Value of the ChiSq Test is:', CSResult[1])"
      ],
      "execution_count": 365,
      "outputs": [
        {
          "output_type": "stream",
          "text": [
            "Age     0.42   0.67   0.75   0.83   0.92   ...  70.00  70.50  71.00  74.00  80.00\n",
            "Pclass                                     ...                                   \n",
            "1.0         0      0      0      0      1  ...      1      0      2      0      1\n",
            "2.0         0      1      0      2      0  ...      1      0      0      0      0\n",
            "3.0         1      0      2      0      0  ...      0      1      0      1      0\n",
            "\n",
            "[3 rows x 88 columns]\n",
            "The P-Value of the ChiSq Test is: 2.7461330837966037e-07\n"
          ],
          "name": "stdout"
        }
      ]
    },
    {
      "cell_type": "code",
      "metadata": {
        "colab": {
          "base_uri": "https://localhost:8080/"
        },
        "id": "4AXVuXP0wbkU",
        "outputId": "a6b73b4e-f8e3-4125-d62b-8b500d409915"
      },
      "source": [
        "Result=pd.crosstab(index=df['Pclass'],columns=df['SibSp'])\n",
        "print(Result)\n",
        "CSResult=chi2_contingency(Result)\n",
        "print('The P-Value of the ChiSq Test is:', CSResult[1])"
      ],
      "execution_count": 366,
      "outputs": [
        {
          "output_type": "stream",
          "text": [
            "SibSp   0.0  1.0  2.0  3.0  4.0  5.0  8.0\n",
            "Pclass                                   \n",
            "1.0     137   71    5    3    0    0    0\n",
            "2.0     120   55    8    1    0    0    0\n",
            "3.0     350   83   15   12   18    4    7\n",
            "The P-Value of the ChiSq Test is: 1.4384580668445732e-06\n"
          ],
          "name": "stdout"
        }
      ]
    },
    {
      "cell_type": "code",
      "metadata": {
        "colab": {
          "base_uri": "https://localhost:8080/"
        },
        "id": "UqfSxtpNwdPj",
        "outputId": "217d2c1e-a4ed-4b70-e1e2-0e966706e92f"
      },
      "source": [
        "Result=pd.crosstab(index=df['Pclass'],columns=df['Parch'])\n",
        "print(Result)\n",
        "CSResult=chi2_contingency(Result)\n",
        "print('The P-Value of the ChiSq Test is:', CSResult[1])"
      ],
      "execution_count": 367,
      "outputs": [
        {
          "output_type": "stream",
          "text": [
            "Parch   0.0  1.0  2.0  3.0  4.0  5.0  6.0\n",
            "Pclass                                   \n",
            "1.0     163   31   21    0    1    0    0\n",
            "2.0     134   32   16    2    0    0    0\n",
            "3.0     379   54   43    3    3    5    1\n",
            "The P-Value of the ChiSq Test is: 0.3600544704140979\n"
          ],
          "name": "stdout"
        }
      ]
    },
    {
      "cell_type": "code",
      "metadata": {
        "colab": {
          "base_uri": "https://localhost:8080/"
        },
        "id": "GVDXXk6iwbzV",
        "outputId": "063373b1-f896-4e19-ece8-7d782f0bb4ed"
      },
      "source": [
        "Result=pd.crosstab(index=df['Pclass'],columns=df['Ticket'])\n",
        "print(Result)\n",
        "CSResult=chi2_contingency(Result)\n",
        "print('The P-Value of the ChiSq Test is:', CSResult[1])\n"
      ],
      "execution_count": 368,
      "outputs": [
        {
          "output_type": "stream",
          "text": [
            "Ticket  110152  110413  110465  ...  W.E.P. 5734  W/C 14208  WE/P 5735\n",
            "Pclass                          ...                                   \n",
            "1.0          3       3       2  ...            1          0          2\n",
            "2.0          0       0       0  ...            0          1          0\n",
            "3.0          0       0       0  ...            0          0          0\n",
            "\n",
            "[3 rows x 680 columns]\n",
            "The P-Value of the ChiSq Test is: 6.986998892321909e-14\n"
          ],
          "name": "stdout"
        }
      ]
    },
    {
      "cell_type": "code",
      "metadata": {
        "colab": {
          "base_uri": "https://localhost:8080/"
        },
        "id": "aUPID-gdwcgp",
        "outputId": "a41c4e9f-2ae6-4ddd-8bd9-bd03f4c34914"
      },
      "source": [
        "Result=pd.crosstab(index=df['Pclass'],columns=df['Fare'])\n",
        "print(Result)\n",
        "CSResult=chi2_contingency(Result)\n",
        "print('The P-Value of the ChiSq Test is:', CSResult[1])"
      ],
      "execution_count": 369,
      "outputs": [
        {
          "output_type": "stream",
          "text": [
            "Fare    0.0000    4.0125    5.0000    ...  262.3750  263.0000  512.3292\n",
            "Pclass                                ...                              \n",
            "1.0            5         0         1  ...         2         4         3\n",
            "2.0            6         0         0  ...         0         0         0\n",
            "3.0            4         1         0  ...         0         0         0\n",
            "\n",
            "[3 rows x 247 columns]\n",
            "The P-Value of the ChiSq Test is: 6.297745205782546e-132\n"
          ],
          "name": "stdout"
        }
      ]
    },
    {
      "cell_type": "code",
      "metadata": {
        "colab": {
          "base_uri": "https://localhost:8080/"
        },
        "id": "aZU2kt_hws_9",
        "outputId": "ce685647-6132-4cfc-f6f8-c4e3a4959db9"
      },
      "source": [
        "Result=pd.crosstab(index=df['Pclass'],columns=df['Cabin'])\n",
        "print(Result)\n",
        "CSResult=chi2_contingency(Result)\n",
        "print('The P-Value of the ChiSq Test is:', CSResult[1])"
      ],
      "execution_count": 370,
      "outputs": [
        {
          "output_type": "stream",
          "text": [
            "Cabin   A10  A14  A16  A19  A20  A23  A24  ...  F G73  F2  F33  F38  F4  G6  T\n",
            "Pclass                                     ...                                \n",
            "1.0       1    1    1    1    1    1    1  ...      0   0    0    0   0   0  1\n",
            "2.0       0    0    0    0    0    0    0  ...      0   3    3    0   2   0  0\n",
            "3.0       0    0    0    0    0    0    0  ...      2   0    0    1   0   4  0\n",
            "\n",
            "[3 rows x 147 columns]\n",
            "The P-Value of the ChiSq Test is: 8.266465537786716e-06\n"
          ],
          "name": "stdout"
        }
      ]
    },
    {
      "cell_type": "code",
      "metadata": {
        "colab": {
          "base_uri": "https://localhost:8080/"
        },
        "id": "JxDpWaggwv_z",
        "outputId": "3f593763-1506-4cad-9675-0a0e1b325209"
      },
      "source": [
        "Result=pd.crosstab(index=df['Pclass'],columns=df['Embarked'])\n",
        "print(Result)\n",
        "CSResult=chi2_contingency(Result)\n",
        "print('The P-Value of the ChiSq Test is:', CSResult[1])"
      ],
      "execution_count": 371,
      "outputs": [
        {
          "output_type": "stream",
          "text": [
            "Embarked   C   Q    S\n",
            "Pclass               \n",
            "1.0       85   2  127\n",
            "2.0       17   3  164\n",
            "3.0       66  72  352\n",
            "The P-Value of the ChiSq Test is: 8.634328982000184e-26\n"
          ],
          "name": "stdout"
        }
      ]
    },
    {
      "cell_type": "code",
      "metadata": {
        "colab": {
          "base_uri": "https://localhost:8080/"
        },
        "id": "4RqBCWZAwzyq",
        "outputId": "90780ef3-ad39-408e-e376-017e6e3ac5dd"
      },
      "source": [
        "Result=pd.crosstab(index=df['Name'],columns=df['Sex'])\n",
        "print(Result)\n",
        "CSResult=chi2_contingency(Result)\n",
        "print('The P-Value of the ChiSq Test is:', CSResult[1])"
      ],
      "execution_count": 372,
      "outputs": [
        {
          "output_type": "stream",
          "text": [
            "Sex                                    female  male\n",
            "Name                                               \n",
            "Abbing, Mr. Anthony                         0     1\n",
            "Abbott, Mr. Rossmore Edward                 0     1\n",
            "Abbott, Mrs. Stanton (Rosa Hunt)            1     0\n",
            "Abelson, Mr. Samuel                         0     1\n",
            "Abelson, Mrs. Samuel (Hannah Wizosky)       1     0\n",
            "...                                       ...   ...\n",
            "de Mulder, Mr. Theodore                     0     1\n",
            "de Pelsmaeker, Mr. Alfons                   0     1\n",
            "del Carlo, Mr. Sebastiano                   0     1\n",
            "van Billiard, Mr. Austin Blyler             0     1\n",
            "van Melkebeke, Mr. Philemon                 0     1\n",
            "\n",
            "[881 rows x 2 columns]\n",
            "The P-Value of the ChiSq Test is: 0.4841589956822705\n"
          ],
          "name": "stdout"
        }
      ]
    },
    {
      "cell_type": "code",
      "metadata": {
        "colab": {
          "base_uri": "https://localhost:8080/"
        },
        "id": "muo6BCmZw4mT",
        "outputId": "de12ceac-5d66-4224-e3b3-c93203550b35"
      },
      "source": [
        "Result=pd.crosstab(index=df['Name'],columns=df['Age'])\n",
        "print(Result)\n",
        "CSResult=chi2_contingency(Result)\n",
        "print('The P-Value of the ChiSq Test is:', CSResult[1])"
      ],
      "execution_count": 373,
      "outputs": [
        {
          "output_type": "stream",
          "text": [
            "Age                                           0.42   0.67   ...  74.00  80.00\n",
            "Name                                                        ...              \n",
            "Abbing, Mr. Anthony                               0      0  ...      0      0\n",
            "Abbott, Mr. Rossmore Edward                       0      0  ...      0      0\n",
            "Abbott, Mrs. Stanton (Rosa Hunt)                  0      0  ...      0      0\n",
            "Abelson, Mr. Samuel                               0      0  ...      0      0\n",
            "Adahl, Mr. Mauritz Nils Martin                    0      0  ...      0      0\n",
            "...                                             ...    ...  ...    ...    ...\n",
            "de Messemaeker, Mrs. Guillaume Joseph (Emma)      0      0  ...      0      0\n",
            "de Mulder, Mr. Theodore                           0      0  ...      0      0\n",
            "de Pelsmaeker, Mr. Alfons                         0      0  ...      0      0\n",
            "del Carlo, Mr. Sebastiano                         0      0  ...      0      0\n",
            "van Billiard, Mr. Austin Blyler                   0      0  ...      0      0\n",
            "\n",
            "[712 rows x 88 columns]\n",
            "The P-Value of the ChiSq Test is: 0.40163084061433796\n"
          ],
          "name": "stdout"
        }
      ]
    },
    {
      "cell_type": "code",
      "metadata": {
        "colab": {
          "base_uri": "https://localhost:8080/"
        },
        "id": "fR7Pluz4w7R2",
        "outputId": "bbf6e5a5-0dc1-4c0f-f8e5-3bd3e0611715"
      },
      "source": [
        "Result=pd.crosstab(index=df['Name'],columns=df['SibSp'])\n",
        "print(Result)\n",
        "CSResult=chi2_contingency(Result)\n",
        "print('The P-Value of the ChiSq Test is:', CSResult[1])"
      ],
      "execution_count": 374,
      "outputs": [
        {
          "output_type": "stream",
          "text": [
            "SibSp                                  0.0  1.0  2.0  3.0  4.0  5.0  8.0\n",
            "Name                                                                    \n",
            "Abbing, Mr. Anthony                      1    0    0    0    0    0    0\n",
            "Abbott, Mr. Rossmore Edward              0    1    0    0    0    0    0\n",
            "Abbott, Mrs. Stanton (Rosa Hunt)         0    1    0    0    0    0    0\n",
            "Abelson, Mr. Samuel                      0    1    0    0    0    0    0\n",
            "Abelson, Mrs. Samuel (Hannah Wizosky)    0    1    0    0    0    0    0\n",
            "...                                    ...  ...  ...  ...  ...  ...  ...\n",
            "de Mulder, Mr. Theodore                  1    0    0    0    0    0    0\n",
            "de Pelsmaeker, Mr. Alfons                1    0    0    0    0    0    0\n",
            "del Carlo, Mr. Sebastiano                0    1    0    0    0    0    0\n",
            "van Billiard, Mr. Austin Blyler          1    0    0    0    0    0    0\n",
            "van Melkebeke, Mr. Philemon              1    0    0    0    0    0    0\n",
            "\n",
            "[890 rows x 7 columns]\n",
            "The P-Value of the ChiSq Test is: 0.4742767477687285\n"
          ],
          "name": "stdout"
        }
      ]
    },
    {
      "cell_type": "code",
      "metadata": {
        "colab": {
          "base_uri": "https://localhost:8080/"
        },
        "id": "vgFLQneBxHjz",
        "outputId": "f7eaed66-070d-444f-bc28-0c7e98f34062"
      },
      "source": [
        "Result=pd.crosstab(index=df['Name'],columns=df['Parch'])\n",
        "print(Result)\n",
        "CSResult=chi2_contingency(Result)\n",
        "print('The P-Value of the ChiSq Test is:', CSResult[1])"
      ],
      "execution_count": 375,
      "outputs": [
        {
          "output_type": "stream",
          "text": [
            "Parch                                  0.0  1.0  2.0  3.0  4.0  5.0  6.0\n",
            "Name                                                                    \n",
            "Abbing, Mr. Anthony                      1    0    0    0    0    0    0\n",
            "Abbott, Mr. Rossmore Edward              0    1    0    0    0    0    0\n",
            "Abbott, Mrs. Stanton (Rosa Hunt)         0    1    0    0    0    0    0\n",
            "Abelson, Mr. Samuel                      1    0    0    0    0    0    0\n",
            "Abelson, Mrs. Samuel (Hannah Wizosky)    1    0    0    0    0    0    0\n",
            "...                                    ...  ...  ...  ...  ...  ...  ...\n",
            "de Mulder, Mr. Theodore                  1    0    0    0    0    0    0\n",
            "de Pelsmaeker, Mr. Alfons                1    0    0    0    0    0    0\n",
            "del Carlo, Mr. Sebastiano                1    0    0    0    0    0    0\n",
            "van Billiard, Mr. Austin Blyler          0    0    1    0    0    0    0\n",
            "van Melkebeke, Mr. Philemon              1    0    0    0    0    0    0\n",
            "\n",
            "[889 rows x 7 columns]\n",
            "The P-Value of the ChiSq Test is: 0.4742622981339153\n"
          ],
          "name": "stdout"
        }
      ]
    },
    {
      "cell_type": "code",
      "metadata": {
        "colab": {
          "base_uri": "https://localhost:8080/"
        },
        "id": "2IgEhxB1xLGs",
        "outputId": "4fcaf956-bc90-4cce-9fc2-87515095aaa9"
      },
      "source": [
        "Result=pd.crosstab(index=df['Name'],columns=df['Fare'])\n",
        "print(Result)\n",
        "CSResult=chi2_contingency(Result)\n",
        "print('The P-Value of the ChiSq Test is:', CSResult[1])"
      ],
      "execution_count": 376,
      "outputs": [
        {
          "output_type": "stream",
          "text": [
            "Fare                                   0.0000    4.0125    ...  263.0000  512.3292\n",
            "Name                                                       ...                    \n",
            "Abbing, Mr. Anthony                           0         0  ...         0         0\n",
            "Abbott, Mr. Rossmore Edward                   0         0  ...         0         0\n",
            "Abbott, Mrs. Stanton (Rosa Hunt)              0         0  ...         0         0\n",
            "Abelson, Mr. Samuel                           0         0  ...         0         0\n",
            "Abelson, Mrs. Samuel (Hannah Wizosky)         0         0  ...         0         0\n",
            "...                                         ...       ...  ...       ...       ...\n",
            "de Mulder, Mr. Theodore                       0         0  ...         0         0\n",
            "de Pelsmaeker, Mr. Alfons                     0         0  ...         0         0\n",
            "del Carlo, Mr. Sebastiano                     0         0  ...         0         0\n",
            "van Billiard, Mr. Austin Blyler               0         0  ...         0         0\n",
            "van Melkebeke, Mr. Philemon                   0         0  ...         0         0\n",
            "\n",
            "[891 rows x 248 columns]\n",
            "The P-Value of the ChiSq Test is: 0.3544341721085969\n"
          ],
          "name": "stdout"
        }
      ]
    },
    {
      "cell_type": "code",
      "metadata": {
        "colab": {
          "base_uri": "https://localhost:8080/"
        },
        "id": "Tu-aR7V0xNXz",
        "outputId": "a61debd8-6773-4f54-a012-71b1ea8735ea"
      },
      "source": [
        "Result=pd.crosstab(index=df['Name'],columns=df['Cabin'])\n",
        "print(Result)\n",
        "CSResult=chi2_contingency(Result)\n",
        "print('The P-Value of the ChiSq Test is:', CSResult[1])"
      ],
      "execution_count": 377,
      "outputs": [
        {
          "output_type": "stream",
          "text": [
            "Cabin                                            A10  A14  A16  ...  F4  G6  T\n",
            "Name                                                            ...           \n",
            "Allen, Miss. Elisabeth Walton                      0    0    0  ...   0   0  0\n",
            "Allison, Master. Hudson Trevor                     0    0    0  ...   0   0  0\n",
            "Allison, Miss. Helen Loraine                       0    0    0  ...   0   0  0\n",
            "Allison, Mrs. Hudson J C (Bessie Waldo Daniels)    0    0    0  ...   0   0  0\n",
            "Anderson, Mr. Harry                                0    0    0  ...   0   0  0\n",
            "...                                              ...  ...  ...  ...  ..  .. ..\n",
            "Wick, Miss. Mary Natalie                           0    0    0  ...   0   0  0\n",
            "Widener, Mr. Harry Elkins                          0    0    0  ...   0   0  0\n",
            "Williams-Lambert, Mr. Fletcher Fellows             0    0    0  ...   0   0  0\n",
            "Woolner, Mr. Hugh                                  0    0    0  ...   0   0  0\n",
            "Young, Miss. Marie Grice                           0    0    0  ...   0   0  0\n",
            "\n",
            "[204 rows x 147 columns]\n",
            "The P-Value of the ChiSq Test is: 0.27377789360547816\n"
          ],
          "name": "stdout"
        }
      ]
    },
    {
      "cell_type": "code",
      "metadata": {
        "colab": {
          "base_uri": "https://localhost:8080/"
        },
        "id": "tXtsAiwwxQYB",
        "outputId": "0467bba8-0110-4d3e-a38a-4f0219596898"
      },
      "source": [
        "Result=pd.crosstab(index=df['Name'],columns=df['Embarked'])\n",
        "print(Result)\n",
        "CSResult=chi2_contingency(Result)\n",
        "print('The P-Value of the ChiSq Test is:', CSResult[1])"
      ],
      "execution_count": 378,
      "outputs": [
        {
          "output_type": "stream",
          "text": [
            "Embarked                               C  Q  S\n",
            "Name                                          \n",
            "Abbing, Mr. Anthony                    0  0  1\n",
            "Abbott, Mr. Rossmore Edward            0  0  1\n",
            "Abbott, Mrs. Stanton (Rosa Hunt)       0  0  1\n",
            "Abelson, Mr. Samuel                    1  0  0\n",
            "Abelson, Mrs. Samuel (Hannah Wizosky)  1  0  0\n",
            "...                                   .. .. ..\n",
            "de Mulder, Mr. Theodore                0  0  1\n",
            "de Pelsmaeker, Mr. Alfons              0  0  1\n",
            "del Carlo, Mr. Sebastiano              1  0  0\n",
            "van Billiard, Mr. Austin Blyler        0  0  1\n",
            "van Melkebeke, Mr. Philemon            0  0  1\n",
            "\n",
            "[889 rows x 3 columns]\n",
            "The P-Value of the ChiSq Test is: 0.48216110017805663\n"
          ],
          "name": "stdout"
        }
      ]
    },
    {
      "cell_type": "code",
      "metadata": {
        "colab": {
          "base_uri": "https://localhost:8080/"
        },
        "id": "7ejiLS8TxTxK",
        "outputId": "c79419a6-ffcd-4272-f4dc-36a91dce9787"
      },
      "source": [
        "Result=pd.crosstab(index=df['Sex'],columns=df['Age'])\n",
        "print(Result)\n",
        "CSResult=chi2_contingency(Result)\n",
        "print('The P-Value of the ChiSq Test is:', CSResult[1])"
      ],
      "execution_count": 379,
      "outputs": [
        {
          "output_type": "stream",
          "text": [
            "Age     0.42   0.67   0.75   0.83   0.92   ...  70.00  70.50  71.00  74.00  80.00\n",
            "Sex                                        ...                                   \n",
            "female      0      0      2      0      0  ...      0      0      0      0      0\n",
            "male        1      1      0      2      1  ...      2      1      2      1      1\n",
            "\n",
            "[2 rows x 88 columns]\n",
            "The P-Value of the ChiSq Test is: 0.4052264340890202\n"
          ],
          "name": "stdout"
        }
      ]
    },
    {
      "cell_type": "code",
      "metadata": {
        "colab": {
          "base_uri": "https://localhost:8080/"
        },
        "id": "ANevKx_CxbGr",
        "outputId": "e014f780-eaa9-4f22-edcb-97e31c5bbf2c"
      },
      "source": [
        "Result=pd.crosstab(index=df['Sex'],columns=df['SibSp'])\n",
        "print(Result)\n",
        "CSResult=chi2_contingency(Result)\n",
        "print('The P-Value of the ChiSq Test is:', CSResult[1])"
      ],
      "execution_count": 380,
      "outputs": [
        {
          "output_type": "stream",
          "text": [
            "SibSp   0.0  1.0  2.0  3.0  4.0  5.0  8.0\n",
            "Sex                                      \n",
            "female  174  104   13   11    6    1    3\n",
            "male    427  102   15    5   12    3    4\n",
            "The P-Value of the ChiSq Test is: 2.8159712514750103e-07\n"
          ],
          "name": "stdout"
        }
      ]
    },
    {
      "cell_type": "code",
      "metadata": {
        "colab": {
          "base_uri": "https://localhost:8080/"
        },
        "id": "s1XVPAJQxd8N",
        "outputId": "7cfadcba-bda2-41f7-ab84-2c35388482e8"
      },
      "source": [
        "Result=pd.crosstab(index=df['Sex'],columns=df['Parch'])\n",
        "print(Result)\n",
        "CSResult=chi2_contingency(Result)\n",
        "print('The P-Value of the ChiSq Test is:', CSResult[1])"
      ],
      "execution_count": 381,
      "outputs": [
        {
          "output_type": "stream",
          "text": [
            "Parch   0.0  1.0  2.0  3.0  4.0  5.0  6.0\n",
            "Sex                                      \n",
            "female  193   58   48    4    2    4    1\n",
            "male    477   58   31    0    2    1    0\n",
            "The P-Value of the ChiSq Test is: 5.156867247759408e-11\n"
          ],
          "name": "stdout"
        }
      ]
    },
    {
      "cell_type": "code",
      "metadata": {
        "colab": {
          "base_uri": "https://localhost:8080/"
        },
        "id": "L0G84C6sxgIt",
        "outputId": "49d32bbb-cd34-4188-d868-5680bd5b7dce"
      },
      "source": [
        "Result=pd.crosstab(index=df['Sex'],columns=df['Ticket'])\n",
        "print(Result)\n",
        "CSResult=chi2_contingency(Result)\n",
        "print('The P-Value of the ChiSq Test is:', CSResult[1])"
      ],
      "execution_count": 382,
      "outputs": [
        {
          "output_type": "stream",
          "text": [
            "Ticket  110152  110413  110465  ...  W.E.P. 5734  W/C 14208  WE/P 5735\n",
            "Sex                             ...                                   \n",
            "female       3       2       0  ...            0          0          1\n",
            "male         0       1       2  ...            1          1          1\n",
            "\n",
            "[2 rows x 673 columns]\n",
            "The P-Value of the ChiSq Test is: 0.6843515426401733\n"
          ],
          "name": "stdout"
        }
      ]
    },
    {
      "cell_type": "code",
      "metadata": {
        "colab": {
          "base_uri": "https://localhost:8080/"
        },
        "id": "3nMwW2ZhxioB",
        "outputId": "02fd37b2-c1d9-4062-8b8a-cf04b5be5419"
      },
      "source": [
        "Result=pd.crosstab(index=df['Sex'],columns=df['Fare'])\n",
        "print(Result)\n",
        "CSResult=chi2_contingency(Result)\n",
        "print('The P-Value of the ChiSq Test is:', CSResult[1])"
      ],
      "execution_count": 383,
      "outputs": [
        {
          "output_type": "stream",
          "text": [
            "Fare    0.0000    4.0125    5.0000    ...  262.3750  263.0000  512.3292\n",
            "Sex                                   ...                              \n",
            "female         0         0         0  ...         2         2         1\n",
            "male          15         1         1  ...         0         2         2\n",
            "\n",
            "[2 rows x 248 columns]\n",
            "The P-Value of the ChiSq Test is: 1.238829592305451e-06\n"
          ],
          "name": "stdout"
        }
      ]
    },
    {
      "cell_type": "code",
      "metadata": {
        "colab": {
          "base_uri": "https://localhost:8080/"
        },
        "id": "9sB5JItoxjdy",
        "outputId": "067b6e64-c5e3-4ad3-a5c7-16c63b275e54"
      },
      "source": [
        "Result=pd.crosstab(index=df['Sex'],columns=df['Cabin'])\n",
        "print(Result)\n",
        "CSResult=chi2_contingency(Result)\n",
        "print('The P-Value of the ChiSq Test is:', CSResult[1])"
      ],
      "execution_count": 384,
      "outputs": [
        {
          "output_type": "stream",
          "text": [
            "Cabin   A10  A14  A16  A19  A20  A23  A24  ...  F G73  F2  F33  F38  F4  G6  T\n",
            "Sex                                        ...                                \n",
            "female    0    0    1    0    0    0    0  ...      0   0    3    0   1   4  0\n",
            "male      1    1    0    1    1    1    1  ...      2   3    0    1   1   0  1\n",
            "\n",
            "[2 rows x 147 columns]\n",
            "The P-Value of the ChiSq Test is: 0.37468058447115365\n"
          ],
          "name": "stdout"
        }
      ]
    },
    {
      "cell_type": "code",
      "metadata": {
        "colab": {
          "base_uri": "https://localhost:8080/"
        },
        "id": "QBGn02Aqxkq0",
        "outputId": "d9b0b56d-e9ba-49ee-b1dd-a635ab54fe44"
      },
      "source": [
        "Result=pd.crosstab(index=df['Sex'],columns=df['Embarked'])\n",
        "print(Result)\n",
        "CSResult=chi2_contingency(Result)\n",
        "print('The P-Value of the ChiSq Test is:', CSResult[1])"
      ],
      "execution_count": 385,
      "outputs": [
        {
          "output_type": "stream",
          "text": [
            "Embarked   C   Q    S\n",
            "Sex                  \n",
            "female    73  36  201\n",
            "male      95  40  434\n",
            "The P-Value of the ChiSq Test is: 0.0012080571401013181\n"
          ],
          "name": "stdout"
        }
      ]
    },
    {
      "cell_type": "code",
      "metadata": {
        "colab": {
          "base_uri": "https://localhost:8080/"
        },
        "id": "FO_QRrbaxr2m",
        "outputId": "41c490f4-9560-4914-cfad-ea51f7c0a2c2"
      },
      "source": [
        "Result=pd.crosstab(index=df['Age'],columns=df['SibSp'])\n",
        "print(Result)\n",
        "CSResult=chi2_contingency(Result)\n",
        "print('The P-Value of the ChiSq Test is:', CSResult[1])"
      ],
      "execution_count": 386,
      "outputs": [
        {
          "output_type": "stream",
          "text": [
            "SibSp  0.0  1.0  2.0  3.0  4.0  5.0\n",
            "Age                                \n",
            "0.42     1    0    0    0    0    0\n",
            "0.67     0    1    0    0    0    0\n",
            "0.75     0    0    2    0    0    0\n",
            "0.83     1    1    0    0    0    0\n",
            "0.92     0    1    0    0    0    0\n",
            "...    ...  ...  ...  ...  ...  ...\n",
            "70.00    1    1    0    0    0    0\n",
            "70.50    1    0    0    0    0    0\n",
            "71.00    2    0    0    0    0    0\n",
            "74.00    1    0    0    0    0    0\n",
            "80.00    1    0    0    0    0    0\n",
            "\n",
            "[88 rows x 6 columns]\n",
            "The P-Value of the ChiSq Test is: 1.9833529389369372e-08\n"
          ],
          "name": "stdout"
        }
      ]
    },
    {
      "cell_type": "code",
      "metadata": {
        "colab": {
          "base_uri": "https://localhost:8080/"
        },
        "id": "ZuBKl-ISxwx-",
        "outputId": "1310adb5-d434-4fe2-c3f0-ed175e710907"
      },
      "source": [
        "Result=pd.crosstab(index=df['Age'],columns=df['Parch'])\n",
        "print(Result)\n",
        "CSResult=chi2_contingency(Result)\n",
        "print('The P-Value of the ChiSq Test is:', CSResult[1])"
      ],
      "execution_count": 387,
      "outputs": [
        {
          "output_type": "stream",
          "text": [
            "Parch  0.0  1.0  2.0  3.0  4.0  5.0  6.0\n",
            "Age                                     \n",
            "0.42     0    1    0    0    0    0    0\n",
            "0.67     0    1    0    0    0    0    0\n",
            "0.75     0    2    0    0    0    0    0\n",
            "0.83     0    1    1    0    0    0    0\n",
            "0.92     0    0    1    0    0    0    0\n",
            "...    ...  ...  ...  ...  ...  ...  ...\n",
            "70.00    1    1    0    0    0    0    0\n",
            "70.50    1    0    0    0    0    0    0\n",
            "71.00    2    0    0    0    0    0    0\n",
            "74.00    1    0    0    0    0    0    0\n",
            "80.00    1    0    0    0    0    0    0\n",
            "\n",
            "[88 rows x 7 columns]\n",
            "The P-Value of the ChiSq Test is: 6.372026987384087e-16\n"
          ],
          "name": "stdout"
        }
      ]
    },
    {
      "cell_type": "code",
      "metadata": {
        "colab": {
          "base_uri": "https://localhost:8080/"
        },
        "id": "PHnZo5M_xxhE",
        "outputId": "9fafcfc8-6515-4a0d-c2b6-48b6fa69c1ad"
      },
      "source": [
        "Result=pd.crosstab(index=df['Age'],columns=df['Ticket'])\n",
        "print(Result)\n",
        "CSResult=chi2_contingency(Result)\n",
        "print('The P-Value of the ChiSq Test is:', CSResult[1])"
      ],
      "execution_count": 388,
      "outputs": [
        {
          "output_type": "stream",
          "text": [
            "Ticket  110152  110413  110465  ...  W.E.P. 5734  W/C 14208  WE/P 5735\n",
            "Age                             ...                                   \n",
            "0.42         0       0       0  ...            0          0          0\n",
            "0.67         0       0       0  ...            0          0          0\n",
            "0.75         0       0       0  ...            0          0          0\n",
            "0.83         0       0       0  ...            0          0          0\n",
            "0.92         0       0       0  ...            0          0          0\n",
            "...        ...     ...     ...  ...          ...        ...        ...\n",
            "70.00        0       0       0  ...            0          0          1\n",
            "70.50        0       0       0  ...            0          0          0\n",
            "71.00        0       0       0  ...            0          0          0\n",
            "74.00        0       0       0  ...            0          0          0\n",
            "80.00        0       0       0  ...            0          0          0\n",
            "\n",
            "[88 rows x 542 columns]\n",
            "The P-Value of the ChiSq Test is: 0.9987145262219274\n"
          ],
          "name": "stdout"
        }
      ]
    },
    {
      "cell_type": "code",
      "metadata": {
        "colab": {
          "base_uri": "https://localhost:8080/"
        },
        "id": "5DaOWFbpxz5E",
        "outputId": "bf7fb059-8336-4cd8-c8e0-5a58d1c2f525"
      },
      "source": [
        "Result=pd.crosstab(index=df['Age'],columns=df['Fare'])\n",
        "print(Result)\n",
        "CSResult=chi2_contingency(Result)\n",
        "print('The P-Value of the ChiSq Test is:', CSResult[1])"
      ],
      "execution_count": 389,
      "outputs": [
        {
          "output_type": "stream",
          "text": [
            "Fare   0.0000    4.0125    5.0000    ...  262.3750  263.0000  512.3292\n",
            "Age                                  ...                              \n",
            "0.42          0         0         0  ...         0         0         0\n",
            "0.67          0         0         0  ...         0         0         0\n",
            "0.75          0         0         0  ...         0         0         0\n",
            "0.83          0         0         0  ...         0         0         0\n",
            "0.92          0         0         0  ...         0         0         0\n",
            "...         ...       ...       ...  ...       ...       ...       ...\n",
            "70.00         0         0         0  ...         0         0         0\n",
            "70.50         0         0         0  ...         0         0         0\n",
            "71.00         0         0         0  ...         0         0         0\n",
            "74.00         0         0         0  ...         0         0         0\n",
            "80.00         0         0         0  ...         0         0         0\n",
            "\n",
            "[88 rows x 220 columns]\n",
            "The P-Value of the ChiSq Test is: 9.835373256313248e-09\n"
          ],
          "name": "stdout"
        }
      ]
    },
    {
      "cell_type": "code",
      "metadata": {
        "colab": {
          "base_uri": "https://localhost:8080/"
        },
        "id": "D5lkdGQkx0dZ",
        "outputId": "8e7c46c5-0e57-4f64-c523-2c0e109e7484"
      },
      "source": [
        "Result=pd.crosstab(index=df['Age'],columns=df['Cabin'])\n",
        "print(Result)\n",
        "CSResult=chi2_contingency(Result)\n",
        "print('The P-Value of the ChiSq Test is:', CSResult[1])"
      ],
      "execution_count": 390,
      "outputs": [
        {
          "output_type": "stream",
          "text": [
            "Cabin  A10  A16  A20  A23  A24  A26  A31  ...  F G63  F G73  F2  F33  F4  G6  T\n",
            "Age                                       ...                                  \n",
            "0.92     0    0    0    0    0    0    0  ...      0      0   0    0   0   0  0\n",
            "1.00     0    0    0    0    0    0    0  ...      0      0   0    0   1   0  0\n",
            "2.00     0    0    0    0    0    0    0  ...      0      0   1    0   0   1  0\n",
            "3.00     0    0    0    0    0    0    0  ...      0      0   1    0   0   0  0\n",
            "4.00     0    0    0    0    0    0    0  ...      0      0   0    0   1   1  0\n",
            "...    ...  ...  ...  ...  ...  ...  ...  ...    ...    ...  ..  ...  ..  .. ..\n",
            "64.00    0    0    0    0    0    0    0  ...      0      0   0    0   0   0  0\n",
            "65.00    0    0    0    0    0    0    0  ...      0      0   0    0   0   0  0\n",
            "70.00    0    0    0    0    0    0    0  ...      0      0   0    0   0   0  0\n",
            "71.00    0    0    0    0    0    0    0  ...      0      0   0    0   0   0  0\n",
            "80.00    0    0    0    1    0    0    0  ...      0      0   0    0   0   0  0\n",
            "\n",
            "[63 rows x 134 columns]\n",
            "The P-Value of the ChiSq Test is: 0.09643835375064627\n"
          ],
          "name": "stdout"
        }
      ]
    },
    {
      "cell_type": "code",
      "metadata": {
        "colab": {
          "base_uri": "https://localhost:8080/"
        },
        "id": "XBeSEaNAx038",
        "outputId": "46be4f02-f5bd-481b-86e9-976684a866f1"
      },
      "source": [
        "Result=pd.crosstab(index=df['Age'],columns=df['Embarked'])\n",
        "print(Result)\n",
        "CSResult=chi2_contingency(Result)\n",
        "print('The P-Value of the ChiSq Test is:', CSResult[1])"
      ],
      "execution_count": 391,
      "outputs": [
        {
          "output_type": "stream",
          "text": [
            "Embarked  C  Q  S\n",
            "Age              \n",
            "0.42      1  0  0\n",
            "0.67      0  0  1\n",
            "0.75      2  0  0\n",
            "0.83      0  0  2\n",
            "0.92      0  0  1\n",
            "...      .. .. ..\n",
            "70.00     0  0  2\n",
            "70.50     0  1  0\n",
            "71.00     2  0  0\n",
            "74.00     0  0  1\n",
            "80.00     0  0  1\n",
            "\n",
            "[88 rows x 3 columns]\n",
            "The P-Value of the ChiSq Test is: 0.0022489321127331374\n"
          ],
          "name": "stdout"
        }
      ]
    },
    {
      "cell_type": "code",
      "metadata": {
        "colab": {
          "base_uri": "https://localhost:8080/"
        },
        "id": "XPGRM8eSyA4f",
        "outputId": "fa5845c6-0389-4887-ccf5-2e9f61516425"
      },
      "source": [
        "Result=pd.crosstab(index=df['Age'],columns=df['SibSp'])\n",
        "print(Result)\n",
        "CSResult=chi2_contingency(Result)\n",
        "print('The P-Value of the ChiSq Test is:', CSResult[1])"
      ],
      "execution_count": 392,
      "outputs": [
        {
          "output_type": "stream",
          "text": [
            "SibSp  0.0  1.0  2.0  3.0  4.0  5.0\n",
            "Age                                \n",
            "0.42     1    0    0    0    0    0\n",
            "0.67     0    1    0    0    0    0\n",
            "0.75     0    0    2    0    0    0\n",
            "0.83     1    1    0    0    0    0\n",
            "0.92     0    1    0    0    0    0\n",
            "...    ...  ...  ...  ...  ...  ...\n",
            "70.00    1    1    0    0    0    0\n",
            "70.50    1    0    0    0    0    0\n",
            "71.00    2    0    0    0    0    0\n",
            "74.00    1    0    0    0    0    0\n",
            "80.00    1    0    0    0    0    0\n",
            "\n",
            "[88 rows x 6 columns]\n",
            "The P-Value of the ChiSq Test is: 1.9833529389369372e-08\n"
          ],
          "name": "stdout"
        }
      ]
    },
    {
      "cell_type": "code",
      "metadata": {
        "colab": {
          "base_uri": "https://localhost:8080/"
        },
        "id": "2YEptSISyGgS",
        "outputId": "31630754-62b0-4c32-e01b-5069ecc17f31"
      },
      "source": [
        "Result=pd.crosstab(index=df['SibSp'],columns=df['Parch'])\n",
        "print(Result)\n",
        "CSResult=chi2_contingency(Result)\n",
        "print('The P-Value of the ChiSq Test is:', CSResult[1])"
      ],
      "execution_count": 393,
      "outputs": [
        {
          "output_type": "stream",
          "text": [
            "Parch  0.0  1.0  2.0  3.0  4.0  5.0  6.0\n",
            "SibSp                                   \n",
            "0.0    536   37   29    1    1    2    0\n",
            "1.0    123   57   19    3    3    3    1\n",
            "2.0     16    7    4    1    0    0    0\n",
            "3.0      2    7    7    0    0    0    0\n",
            "4.0      0    9    9    0    0    0    0\n",
            "5.0      0    0    4    0    0    0    0\n",
            "8.0      0    0    7    0    0    0    0\n",
            "The P-Value of the ChiSq Test is: 4.978668943303837e-50\n"
          ],
          "name": "stdout"
        }
      ]
    },
    {
      "cell_type": "code",
      "metadata": {
        "colab": {
          "base_uri": "https://localhost:8080/"
        },
        "id": "2SIvS1c0yNpu",
        "outputId": "80d928b6-080c-4fd9-c911-ff81d49c8fd5"
      },
      "source": [
        "Result=pd.crosstab(index=df['SibSp'],columns=df['Ticket'])\n",
        "print(Result)\n",
        "CSResult=chi2_contingency(Result)\n",
        "print('The P-Value of the ChiSq Test is:', CSResult[1])"
      ],
      "execution_count": 394,
      "outputs": [
        {
          "output_type": "stream",
          "text": [
            "Ticket  110152  110413  110465  ...  W.E.P. 5734  W/C 14208  WE/P 5735\n",
            "SibSp                           ...                                   \n",
            "0.0          3       1       2  ...            0          1          1\n",
            "1.0          0       2       0  ...            1          0          1\n",
            "2.0          0       0       0  ...            0          0          0\n",
            "3.0          0       0       0  ...            0          0          0\n",
            "4.0          0       0       0  ...            0          0          0\n",
            "5.0          0       0       0  ...            0          0          0\n",
            "8.0          0       0       0  ...            0          0          0\n",
            "\n",
            "[7 rows x 681 columns]\n",
            "The P-Value of the ChiSq Test is: 8.792298819466805e-05\n"
          ],
          "name": "stdout"
        }
      ]
    },
    {
      "cell_type": "code",
      "metadata": {
        "colab": {
          "base_uri": "https://localhost:8080/"
        },
        "id": "2FtStYfByOhM",
        "outputId": "2364908e-c253-47b4-d9c6-0a4cf7cea849"
      },
      "source": [
        "Result=pd.crosstab(index=df['SibSp'],columns=df['Fare'])\n",
        "print(Result)\n",
        "CSResult=chi2_contingency(Result)\n",
        "print('The P-Value of the ChiSq Test is:', CSResult[1])"
      ],
      "execution_count": 395,
      "outputs": [
        {
          "output_type": "stream",
          "text": [
            "Fare   0.0000    4.0125    5.0000    ...  262.3750  263.0000  512.3292\n",
            "SibSp                                ...                              \n",
            "0.0          15         1         1  ...         0         0         3\n",
            "1.0           0         0         0  ...         0         1         0\n",
            "2.0           0         0         0  ...         2         0         0\n",
            "3.0           0         0         0  ...         0         3         0\n",
            "4.0           0         0         0  ...         0         0         0\n",
            "5.0           0         0         0  ...         0         0         0\n",
            "8.0           0         0         0  ...         0         0         0\n",
            "\n",
            "[7 rows x 248 columns]\n",
            "The P-Value of the ChiSq Test is: 3.0529710475484883e-225\n"
          ],
          "name": "stdout"
        }
      ]
    },
    {
      "cell_type": "code",
      "metadata": {
        "colab": {
          "base_uri": "https://localhost:8080/"
        },
        "id": "8B3pOhfuyQNx",
        "outputId": "3ef70258-94e3-4b8c-960c-40c851f45e22"
      },
      "source": [
        "Result=pd.crosstab(index=df['SibSp'],columns=df['Cabin'])\n",
        "print(Result)\n",
        "CSResult=chi2_contingency(Result)\n",
        "print('The P-Value of the ChiSq Test is:', CSResult[1])"
      ],
      "execution_count": 396,
      "outputs": [
        {
          "output_type": "stream",
          "text": [
            "Cabin  A10  A14  A16  A19  A20  A23  A24  ...  F G73  F2  F33  F38  F4  G6  T\n",
            "SibSp                                     ...                                \n",
            "0.0      1    1    0    1    0    1    1  ...      2   1    3    1   0   2  1\n",
            "1.0      0    0    1    0    1    0    0  ...      0   2    0    0   0   2  0\n",
            "2.0      0    0    0    0    0    0    0  ...      0   0    0    0   2   0  0\n",
            "3.0      0    0    0    0    0    0    0  ...      0   0    0    0   0   0  0\n",
            "\n",
            "[4 rows x 147 columns]\n",
            "The P-Value of the ChiSq Test is: 0.0015999734213839574\n"
          ],
          "name": "stdout"
        }
      ]
    },
    {
      "cell_type": "code",
      "metadata": {
        "colab": {
          "base_uri": "https://localhost:8080/"
        },
        "id": "j67HzM2OyRWp",
        "outputId": "30bdf27e-7964-4c60-a98c-9f3d5353a0e9"
      },
      "source": [
        "Result=pd.crosstab(index=df['SibSp'],columns=df['Embarked'])\n",
        "print(Result)\n",
        "CSResult=chi2_contingency(Result)\n",
        "print('The P-Value of the ChiSq Test is:', CSResult[1])"
      ],
      "execution_count": 397,
      "outputs": [
        {
          "output_type": "stream",
          "text": [
            "Embarked    C   Q    S\n",
            "SibSp                 \n",
            "0.0       109  59  438\n",
            "1.0        53  11  145\n",
            "2.0         6   3   19\n",
            "3.0         0   0   16\n",
            "4.0         0   4   14\n",
            "5.0         0   0    4\n",
            "8.0         0   0    7\n",
            "The P-Value of the ChiSq Test is: 0.008809357958654642\n"
          ],
          "name": "stdout"
        }
      ]
    },
    {
      "cell_type": "code",
      "metadata": {
        "colab": {
          "base_uri": "https://localhost:8080/"
        },
        "id": "BPutgBMfydAN",
        "outputId": "61e34209-d15d-4cea-dc1f-f0e41912f501"
      },
      "source": [
        "Result=pd.crosstab(index=df['Parch'],columns=df['Ticket'])\n",
        "print(Result)\n",
        "CSResult=chi2_contingency(Result)\n",
        "print('The P-Value of the ChiSq Test is:', CSResult[1])"
      ],
      "execution_count": 398,
      "outputs": [
        {
          "output_type": "stream",
          "text": [
            "Ticket  110152  110413  110465  ...  W.E.P. 5734  W/C 14208  WE/P 5735\n",
            "Parch                           ...                                   \n",
            "0.0          3       0       2  ...            1          1          0\n",
            "1.0          0       2       0  ...            0          0          1\n",
            "2.0          0       1       0  ...            0          0          1\n",
            "3.0          0       0       0  ...            0          0          0\n",
            "4.0          0       0       0  ...            0          0          0\n",
            "5.0          0       0       0  ...            0          0          0\n",
            "6.0          0       0       0  ...            0          0          0\n",
            "\n",
            "[7 rows x 679 columns]\n",
            "The P-Value of the ChiSq Test is: 1.0\n"
          ],
          "name": "stdout"
        }
      ]
    },
    {
      "cell_type": "code",
      "metadata": {
        "colab": {
          "base_uri": "https://localhost:8080/"
        },
        "id": "VOoJFHsRyhzh",
        "outputId": "6544b58d-f5c5-44ca-f90a-0a33ac9f3a87"
      },
      "source": [
        "Result=pd.crosstab(index=df['Parch'],columns=df['Fare'])\n",
        "print(Result)\n",
        "CSResult=chi2_contingency(Result)\n",
        "print('The P-Value of the ChiSq Test is:', CSResult[1])"
      ],
      "execution_count": 399,
      "outputs": [
        {
          "output_type": "stream",
          "text": [
            "Fare   0.0000    4.0125    5.0000    ...  262.3750  263.0000  512.3292\n",
            "Parch                                ...                              \n",
            "0.0          15         1         1  ...         0         0         2\n",
            "1.0           0         0         0  ...         0         0         1\n",
            "2.0           0         0         0  ...         2         3         0\n",
            "3.0           0         0         0  ...         0         0         0\n",
            "4.0           0         0         0  ...         0         1         0\n",
            "5.0           0         0         0  ...         0         0         0\n",
            "6.0           0         0         0  ...         0         0         0\n",
            "\n",
            "[7 rows x 246 columns]\n",
            "The P-Value of the ChiSq Test is: 1.635138774265835e-26\n"
          ],
          "name": "stdout"
        }
      ]
    },
    {
      "cell_type": "code",
      "metadata": {
        "colab": {
          "base_uri": "https://localhost:8080/"
        },
        "id": "DPDr3nasyjOR",
        "outputId": "3dda9060-afca-4f40-87b9-6a7c72688f66"
      },
      "source": [
        "Result=pd.crosstab(index=df['Parch'],columns=df['Cabin'])\n",
        "print(Result)\n",
        "CSResult=chi2_contingency(Result)\n",
        "print('The P-Value of the ChiSq Test is:', CSResult[1])"
      ],
      "execution_count": 400,
      "outputs": [
        {
          "output_type": "stream",
          "text": [
            "Cabin  A10  A14  A16  A19  A20  A23  A24  ...  F G73  F2  F33  F38  F4  G6  T\n",
            "Parch                                     ...                                \n",
            "0.0      1    1    1    1    1    1    1  ...      2   0    3    1   0   0  1\n",
            "1.0      0    0    0    0    0    0    0  ...      0   2    0    0   2   3  0\n",
            "2.0      0    0    0    0    0    0    0  ...      0   1    0    0   0   1  0\n",
            "4.0      0    0    0    0    0    0    0  ...      0   0    0    0   0   0  0\n",
            "\n",
            "[4 rows x 147 columns]\n",
            "The P-Value of the ChiSq Test is: 0.7757139202166147\n"
          ],
          "name": "stdout"
        }
      ]
    },
    {
      "cell_type": "code",
      "metadata": {
        "colab": {
          "base_uri": "https://localhost:8080/"
        },
        "id": "X8ZQAEjbyjyQ",
        "outputId": "f2ffa646-1dc8-4cc0-97a9-0076abf93a7d"
      },
      "source": [
        "Result=pd.crosstab(index=df['Parch'],columns=df['Embarked'])\n",
        "print(Result)\n",
        "CSResult=chi2_contingency(Result)\n",
        "print('The P-Value of the ChiSq Test is:', CSResult[1])"
      ],
      "execution_count": 401,
      "outputs": [
        {
          "output_type": "stream",
          "text": [
            "Embarked    C   Q    S\n",
            "Parch                 \n",
            "0.0       123  68  484\n",
            "1.0        29   6   82\n",
            "2.0        14   1   65\n",
            "3.0         1   0    4\n",
            "4.0         0   0    4\n",
            "5.0         0   1    4\n",
            "6.0         0   0    1\n",
            "The P-Value of the ChiSq Test is: 0.19516651908092206\n"
          ],
          "name": "stdout"
        }
      ]
    },
    {
      "cell_type": "code",
      "metadata": {
        "colab": {
          "base_uri": "https://localhost:8080/"
        },
        "id": "qNzfT7WiypRC",
        "outputId": "8d4c7143-854f-4be9-e3c1-563a4d5b90ce"
      },
      "source": [
        "Result=pd.crosstab(index=df['Ticket'],columns=df['Fare'])\n",
        "print(Result)\n",
        "CSResult=chi2_contingency(Result)\n",
        "print('The P-Value of the ChiSq Test is:', CSResult[1])"
      ],
      "execution_count": 402,
      "outputs": [
        {
          "output_type": "stream",
          "text": [
            "Fare         0.0000    4.0125    5.0000    ...  262.3750  263.0000  512.3292\n",
            "Ticket                                     ...                              \n",
            "110152              0         0         0  ...         0         0         0\n",
            "110413              0         0         0  ...         0         0         0\n",
            "110465              0         0         0  ...         0         0         0\n",
            "110564              0         0         0  ...         0         0         0\n",
            "110813              0         0         0  ...         0         0         0\n",
            "...               ...       ...       ...  ...       ...       ...       ...\n",
            "W./C. 6608          0         0         0  ...         0         0         0\n",
            "W./C. 6609          0         0         0  ...         0         0         0\n",
            "W.E.P. 5734         0         0         0  ...         0         0         0\n",
            "W/C 14208           0         0         0  ...         0         0         0\n",
            "WE/P 5735           0         0         0  ...         0         0         0\n",
            "\n",
            "[681 rows x 248 columns]\n",
            "The P-Value of the ChiSq Test is: 0.0\n"
          ],
          "name": "stdout"
        }
      ]
    },
    {
      "cell_type": "code",
      "metadata": {
        "colab": {
          "base_uri": "https://localhost:8080/"
        },
        "id": "Wvb7B35Mys2R",
        "outputId": "a2ddc8c5-96f6-458e-b8d4-ccfda70b25b4"
      },
      "source": [
        "Result=pd.crosstab(index=df['Ticket'],columns=df['Cabin'])\n",
        "print(Result)\n",
        "CSResult=chi2_contingency(Result)\n",
        "print('The P-Value of the ChiSq Test is:', CSResult[1])"
      ],
      "execution_count": 403,
      "outputs": [
        {
          "output_type": "stream",
          "text": [
            "Cabin              A10  A14  A16  A19  A20  A23  ...  F2  F33  F38  F4  G6  T\n",
            "Ticket                                           ...                         \n",
            "110152               0    0    0    0    0    0  ...   0    0    0   0   0  0\n",
            "110413               0    0    0    0    0    0  ...   0    0    0   0   0  0\n",
            "110465               0    1    0    0    0    0  ...   0    0    0   0   0  0\n",
            "110564               0    0    0    0    0    0  ...   0    0    0   0   0  0\n",
            "110813               0    0    0    0    0    0  ...   0    0    0   0   0  0\n",
            "...                ...  ...  ...  ...  ...  ...  ...  ..  ...  ...  ..  .. ..\n",
            "SC/AH Basle 541      0    0    0    0    0    0  ...   0    0    0   0   0  0\n",
            "SC/Paris 2163        0    0    0    0    0    0  ...   0    0    0   0   0  0\n",
            "SOTON/O.Q. 392078    0    0    0    0    0    0  ...   0    0    0   0   0  0\n",
            "W.E.P. 5734          0    0    0    0    0    0  ...   0    0    0   0   0  0\n",
            "WE/P 5735            0    0    0    0    0    0  ...   0    0    0   0   0  0\n",
            "\n",
            "[142 rows x 147 columns]\n",
            "The P-Value of the ChiSq Test is: 1.3024835241532254e-132\n"
          ],
          "name": "stdout"
        }
      ]
    },
    {
      "cell_type": "code",
      "metadata": {
        "colab": {
          "base_uri": "https://localhost:8080/"
        },
        "id": "PsVJU1Gzyv9Y",
        "outputId": "271a0755-b7eb-45da-981c-10cdacc11ee0"
      },
      "source": [
        "Result=pd.crosstab(index=df['Ticket'],columns=df['Embarked'])\n",
        "print(Result)\n",
        "CSResult=chi2_contingency(Result)\n",
        "print('The P-Value of the ChiSq Test is:', CSResult[1])"
      ],
      "execution_count": 404,
      "outputs": [
        {
          "output_type": "stream",
          "text": [
            "Embarked     C  Q  S\n",
            "Ticket              \n",
            "110152       0  0  3\n",
            "110413       0  0  3\n",
            "110465       0  0  2\n",
            "110564       0  0  1\n",
            "110813       1  0  0\n",
            "...         .. .. ..\n",
            "W./C. 6608   0  0  4\n",
            "W./C. 6609   0  0  1\n",
            "W.E.P. 5734  0  0  1\n",
            "W/C 14208    0  0  1\n",
            "WE/P 5735    0  0  2\n",
            "\n",
            "[680 rows x 3 columns]\n",
            "The P-Value of the ChiSq Test is: 2.2561436019379125e-13\n"
          ],
          "name": "stdout"
        }
      ]
    },
    {
      "cell_type": "code",
      "metadata": {
        "colab": {
          "base_uri": "https://localhost:8080/"
        },
        "id": "00SoLgQ-yyor",
        "outputId": "59b23369-7185-4b7e-ff60-b481af76ed40"
      },
      "source": [
        "Result=pd.crosstab(index=df['Fare'],columns=df['Cabin'])\n",
        "print(Result)\n",
        "CSResult=chi2_contingency(Result)\n",
        "print('The P-Value of the ChiSq Test is:', CSResult[1])"
      ],
      "execution_count": 405,
      "outputs": [
        {
          "output_type": "stream",
          "text": [
            "Cabin     A10  A14  A16  A19  A20  A23  A24  ...  F G73  F2  F33  F38  F4  G6  T\n",
            "Fare                                         ...                                \n",
            "0.0000      0    0    0    0    0    0    0  ...      0   0    0    0   0   0  0\n",
            "5.0000      0    0    0    0    0    0    0  ...      0   0    0    0   0   0  0\n",
            "7.6500      0    0    0    0    0    0    0  ...      2   0    0    0   0   0  0\n",
            "7.7500      0    0    0    0    0    0    0  ...      0   0    0    1   0   0  0\n",
            "8.0500      0    0    0    0    0    0    0  ...      0   0    0    0   0   0  0\n",
            "...       ...  ...  ...  ...  ...  ...  ...  ...    ...  ..  ...  ...  ..  .. ..\n",
            "227.5250    0    0    0    0    0    0    0  ...      0   0    0    0   0   0  0\n",
            "247.5208    0    0    0    0    0    0    0  ...      0   0    0    0   0   0  0\n",
            "262.3750    0    0    0    0    0    0    0  ...      0   0    0    0   0   0  0\n",
            "263.0000    0    0    0    0    0    0    0  ...      0   0    0    0   0   0  0\n",
            "512.3292    0    0    0    0    0    0    0  ...      0   0    0    0   0   0  0\n",
            "\n",
            "[100 rows x 147 columns]\n",
            "The P-Value of the ChiSq Test is: 6.226992988487664e-130\n"
          ],
          "name": "stdout"
        }
      ]
    },
    {
      "cell_type": "code",
      "metadata": {
        "colab": {
          "base_uri": "https://localhost:8080/"
        },
        "id": "M2DOy86sy1xg",
        "outputId": "15c0ddc6-bd19-4fd6-8747-86ae9d93d3b9"
      },
      "source": [
        "Result=pd.crosstab(index=df['Fare'],columns=df['Embarked'])\n",
        "print(Result)\n",
        "CSResult=chi2_contingency(Result)\n",
        "print('The P-Value of the ChiSq Test is:', CSResult[1])"
      ],
      "execution_count": 406,
      "outputs": [
        {
          "output_type": "stream",
          "text": [
            "Embarked  C  Q   S\n",
            "Fare              \n",
            "0.0000    0  0  15\n",
            "4.0125    1  0   0\n",
            "5.0000    0  0   1\n",
            "6.2375    0  0   1\n",
            "6.4375    1  0   0\n",
            "...      .. ..  ..\n",
            "227.5250  4  0   0\n",
            "247.5208  2  0   0\n",
            "262.3750  2  0   0\n",
            "263.0000  0  0   4\n",
            "512.3292  3  0   0\n",
            "\n",
            "[247 rows x 3 columns]\n",
            "The P-Value of the ChiSq Test is: 6.361671560484066e-121\n"
          ],
          "name": "stdout"
        }
      ]
    },
    {
      "cell_type": "code",
      "metadata": {
        "colab": {
          "base_uri": "https://localhost:8080/"
        },
        "id": "Hc9jdgtGy5Ky",
        "outputId": "2a6ef271-011b-4a66-c31b-edc172419d30"
      },
      "source": [
        "Result=pd.crosstab(index=df['Cabin'],columns=df['Embarked'])\n",
        "print(Result)\n",
        "CSResult=chi2_contingency(Result)\n",
        "print('The P-Value of the ChiSq Test is:', CSResult[1])"
      ],
      "execution_count": 407,
      "outputs": [
        {
          "output_type": "stream",
          "text": [
            "Embarked  C  Q  S\n",
            "Cabin            \n",
            "A10       1  0  0\n",
            "A14       0  0  1\n",
            "A16       1  0  0\n",
            "A19       0  0  1\n",
            "A20       1  0  0\n",
            "...      .. .. ..\n",
            "F33       0  0  3\n",
            "F38       0  1  0\n",
            "F4        0  0  2\n",
            "G6        0  0  4\n",
            "T         0  0  1\n",
            "\n",
            "[146 rows x 3 columns]\n",
            "The P-Value of the ChiSq Test is: 0.002031277646831002\n"
          ],
          "name": "stdout"
        }
      ]
    },
    {
      "cell_type": "markdown",
      "metadata": {
        "id": "PRym1Y_h0cba"
      },
      "source": [
        "Question-1 (Correlation coefficient method)"
      ]
    },
    {
      "cell_type": "code",
      "metadata": {
        "id": "FD-X3kcbzNgh"
      },
      "source": [
        "dataset=pd.read_csv('Titanic_ISTE.csv')\n",
        "df=pd.DataFrame(dataset)"
      ],
      "execution_count": 408,
      "outputs": []
    },
    {
      "cell_type": "code",
      "metadata": {
        "colab": {
          "base_uri": "https://localhost:8080/"
        },
        "id": "vGxhntUi1Hyk",
        "outputId": "7db7d893-172f-4cb4-8697-5d631bdd7229"
      },
      "source": [
        "column_1=df['Survived']\n",
        "column_2=df['Pclass']\n",
        "Correlation=column_2.corr(column_1)\n",
        "print(\"Correlation value is:\",Correlation)"
      ],
      "execution_count": 409,
      "outputs": [
        {
          "output_type": "stream",
          "text": [
            "Correlation value is: -0.3412361199775706\n"
          ],
          "name": "stdout"
        }
      ]
    },
    {
      "cell_type": "code",
      "metadata": {
        "colab": {
          "base_uri": "https://localhost:8080/"
        },
        "id": "mF6O902G1oZU",
        "outputId": "fcd9fd69-4469-4079-9fcc-016d79d455b3"
      },
      "source": [
        "column_1=df['Survived']\n",
        "column_2=df['Age']\n",
        "Correlation=column_2.corr(column_1)\n",
        "print(\"Correlation value is:\",Correlation)"
      ],
      "execution_count": 410,
      "outputs": [
        {
          "output_type": "stream",
          "text": [
            "Correlation value is: -0.07885930007180798\n"
          ],
          "name": "stdout"
        }
      ]
    },
    {
      "cell_type": "code",
      "metadata": {
        "colab": {
          "base_uri": "https://localhost:8080/"
        },
        "id": "Gx_ym3t31ttn",
        "outputId": "a460214f-0862-4d0b-9e40-2d6244008d13"
      },
      "source": [
        "column_1=df['Survived']\n",
        "column_2=df['SibSp']\n",
        "Correlation=column_2.corr(column_1)\n",
        "print(\"Correlation value is:\",Correlation)"
      ],
      "execution_count": 411,
      "outputs": [
        {
          "output_type": "stream",
          "text": [
            "Correlation value is: -0.03476026217335812\n"
          ],
          "name": "stdout"
        }
      ]
    },
    {
      "cell_type": "code",
      "metadata": {
        "colab": {
          "base_uri": "https://localhost:8080/"
        },
        "id": "nDtqYq-j1tob",
        "outputId": "a27a90a8-b780-4f26-cd95-46c8a5ca0a7d"
      },
      "source": [
        "column_1=df['Survived']\n",
        "column_2=df['Parch']\n",
        "Correlation=column_2.corr(column_1)\n",
        "print(\"Correlation value is:\",Correlation)"
      ],
      "execution_count": 412,
      "outputs": [
        {
          "output_type": "stream",
          "text": [
            "Correlation value is: 0.08177609101276323\n"
          ],
          "name": "stdout"
        }
      ]
    },
    {
      "cell_type": "code",
      "metadata": {
        "colab": {
          "base_uri": "https://localhost:8080/"
        },
        "id": "qKiGgokT1tiq",
        "outputId": "4cae4483-834d-451f-9cbc-61c41ff7040b"
      },
      "source": [
        "column_1=df['Survived']\n",
        "column_2=df['Fare']\n",
        "Correlation=column_2.corr(column_1)\n",
        "print(\"Correlation value is:\",Correlation)"
      ],
      "execution_count": 413,
      "outputs": [
        {
          "output_type": "stream",
          "text": [
            "Correlation value is: 0.25901315203029607\n"
          ],
          "name": "stdout"
        }
      ]
    },
    {
      "cell_type": "code",
      "metadata": {
        "colab": {
          "base_uri": "https://localhost:8080/"
        },
        "id": "jL1LuQ611tTb",
        "outputId": "884bdc7b-6906-4eef-95df-827e9a868e9c"
      },
      "source": [
        "column_1=df['Pclass']\n",
        "column_2=df['Age']\n",
        "Correlation=column_2.corr(column_1)\n",
        "print(\"Correlation value is:\",Correlation)"
      ],
      "execution_count": 414,
      "outputs": [
        {
          "output_type": "stream",
          "text": [
            "Correlation value is: -0.3696550489219345\n"
          ],
          "name": "stdout"
        }
      ]
    },
    {
      "cell_type": "code",
      "metadata": {
        "colab": {
          "base_uri": "https://localhost:8080/"
        },
        "id": "zoIswm421tP4",
        "outputId": "ea028494-88ed-4a59-f647-4fdf4ee5d7ec"
      },
      "source": [
        "column_1=df['Pclass']\n",
        "column_2=df['SibSp']\n",
        "Correlation=column_2.corr(column_1)\n",
        "print(\"Correlation value is:\",Correlation)"
      ],
      "execution_count": 415,
      "outputs": [
        {
          "output_type": "stream",
          "text": [
            "Correlation value is: 0.08056435460538197\n"
          ],
          "name": "stdout"
        }
      ]
    },
    {
      "cell_type": "code",
      "metadata": {
        "colab": {
          "base_uri": "https://localhost:8080/"
        },
        "id": "7cTm_-jR1tM7",
        "outputId": "c8b3f183-4e54-4392-b09a-062e382a9df2"
      },
      "source": [
        "column_1=df['Pclass']\n",
        "column_2=df['Parch']\n",
        "Correlation=column_2.corr(column_1)\n",
        "print(\"Correlation value is:\",Correlation)"
      ],
      "execution_count": 416,
      "outputs": [
        {
          "output_type": "stream",
          "text": [
            "Correlation value is: 0.018642539121567974\n"
          ],
          "name": "stdout"
        }
      ]
    },
    {
      "cell_type": "code",
      "metadata": {
        "colab": {
          "base_uri": "https://localhost:8080/"
        },
        "id": "xuO8BD851tGw",
        "outputId": "1420aa56-add4-4791-a1df-b19d4b14f944"
      },
      "source": [
        "column_1=df['Pclass']\n",
        "column_2=df['Fare']\n",
        "Correlation=column_2.corr(column_1)\n",
        "print(\"Correlation value is:\",Correlation)"
      ],
      "execution_count": 417,
      "outputs": [
        {
          "output_type": "stream",
          "text": [
            "Correlation value is: -0.5493357519823355\n"
          ],
          "name": "stdout"
        }
      ]
    },
    {
      "cell_type": "code",
      "metadata": {
        "colab": {
          "base_uri": "https://localhost:8080/"
        },
        "id": "mixwwcE-1sMn",
        "outputId": "8d0034da-b61f-487c-88bc-07f12f289a4f"
      },
      "source": [
        "column_1=df['Age']\n",
        "column_2=df['SibSp']\n",
        "Correlation=column_2.corr(column_1)\n",
        "print(\"Correlation value is:\",Correlation)"
      ],
      "execution_count": 418,
      "outputs": [
        {
          "output_type": "stream",
          "text": [
            "Correlation value is: -0.30755666813233606\n"
          ],
          "name": "stdout"
        }
      ]
    },
    {
      "cell_type": "code",
      "metadata": {
        "colab": {
          "base_uri": "https://localhost:8080/"
        },
        "id": "XApfq0LX1sJa",
        "outputId": "683b3a88-79b6-4715-fa95-cce3df12d465"
      },
      "source": [
        "column_1=df['Age']\n",
        "column_2=df['Parch']\n",
        "Correlation=column_2.corr(column_1)\n",
        "print(\"Correlation value is:\",Correlation)"
      ],
      "execution_count": 419,
      "outputs": [
        {
          "output_type": "stream",
          "text": [
            "Correlation value is: -0.19198136262845306\n"
          ],
          "name": "stdout"
        }
      ]
    },
    {
      "cell_type": "code",
      "metadata": {
        "colab": {
          "base_uri": "https://localhost:8080/"
        },
        "id": "ul8OUOml1r1V",
        "outputId": "103500e8-3dad-4ee9-a8e7-06def786427e"
      },
      "source": [
        "column_1=df['Age']\n",
        "column_2=df['Fare']\n",
        "Correlation=column_2.corr(column_1)\n",
        "print(\"Correlation value is:\",Correlation)"
      ],
      "execution_count": 420,
      "outputs": [
        {
          "output_type": "stream",
          "text": [
            "Correlation value is: 0.09515241722705102\n"
          ],
          "name": "stdout"
        }
      ]
    },
    {
      "cell_type": "code",
      "metadata": {
        "colab": {
          "base_uri": "https://localhost:8080/"
        },
        "id": "mjjeSBAh3Ra8",
        "outputId": "0cae2aac-41fc-4f5e-a55f-4b7aeccdb20d"
      },
      "source": [
        "column_1=df['SibSp']\n",
        "column_2=df['Parch']\n",
        "Correlation=column_2.corr(column_1)\n",
        "print(\"Correlation value is:\",Correlation)"
      ],
      "execution_count": 421,
      "outputs": [
        {
          "output_type": "stream",
          "text": [
            "Correlation value is: 0.4108662972757165\n"
          ],
          "name": "stdout"
        }
      ]
    },
    {
      "cell_type": "code",
      "metadata": {
        "colab": {
          "base_uri": "https://localhost:8080/"
        },
        "id": "Eelo7Qu43RVP",
        "outputId": "7c9ef796-47f5-450f-8121-731fe108e00f"
      },
      "source": [
        "column_1=df['SibSp']\n",
        "column_2=df['Fare']\n",
        "Correlation=column_2.corr(column_1)\n",
        "print(\"Correlation value is:\",Correlation)"
      ],
      "execution_count": 422,
      "outputs": [
        {
          "output_type": "stream",
          "text": [
            "Correlation value is: 0.15979658709841105\n"
          ],
          "name": "stdout"
        }
      ]
    },
    {
      "cell_type": "code",
      "metadata": {
        "colab": {
          "base_uri": "https://localhost:8080/"
        },
        "id": "wOGR1GrI3RKe",
        "outputId": "6a6530f2-e095-40e4-fc9e-535b0541734c"
      },
      "source": [
        "column_1=df['Parch']\n",
        "column_2=df['Fare']\n",
        "Correlation=column_2.corr(column_1)\n",
        "print(\"Correlation value is:\",Correlation)"
      ],
      "execution_count": 423,
      "outputs": [
        {
          "output_type": "stream",
          "text": [
            "Correlation value is: 0.21643839892944325\n"
          ],
          "name": "stdout"
        }
      ]
    },
    {
      "cell_type": "markdown",
      "metadata": {
        "id": "f-zBZLHx6vbU"
      },
      "source": [
        "Question-2"
      ]
    },
    {
      "cell_type": "code",
      "metadata": {
        "colab": {
          "base_uri": "https://localhost:8080/",
          "height": 582
        },
        "id": "9eKre7k-6x_f",
        "outputId": "c8172206-5bc2-4439-ba28-b71ccc22ef5e"
      },
      "source": [
        "import missingno as msno\n",
        "dataset=pd.read_csv('Titanic_ISTE.csv')\n",
        "df=pd.DataFrame(dataset)\n",
        "msno.matrix(df)"
      ],
      "execution_count": 424,
      "outputs": [
        {
          "output_type": "execute_result",
          "data": {
            "text/plain": [
              "<matplotlib.axes._subplots.AxesSubplot at 0x7f2dec987050>"
            ]
          },
          "metadata": {
            "tags": []
          },
          "execution_count": 424
        },
        {
          "output_type": "display_data",
          "data": {
            "image/png": "[encoded data removed]",
            "text/plain": [
              "<Figure size 1800x720 with 2 Axes>"
            ]
          },
          "metadata": {
            "tags": [],
            "needs_background": "light"
          }
        }
      ]
    },
    {
      "cell_type": "code",
      "metadata": {
        "colab": {
          "base_uri": "https://localhost:8080/",
          "height": 1000
        },
        "id": "QxcjICxM8J6I",
        "outputId": "e645db8f-0612-4cac-bf3b-f50394079e64"
      },
      "source": [
        "import numpy as np\n",
        "df=df.drop(columns=['Cabin','Unnamed: 12','Unnamed: 13','Unnamed: 14','Unnamed: 15','Unnamed: 16','Unnamed: 17'])#Cabin can be removed because it has not of missing data and the data given is also not useful for any operation\n",
        "msno.matrix(df)\n",
        "\n",
        "df[\"Age\"] = df[\"Age\"].replace(np.NaN, df[\"Age\"].mean())\n",
        "msno.matrix(df)\n",
        "\n",
        "df['Sex'].fillna(df['Sex'].mode()[0], inplace=True)# There is no sense in replacing the missing value through mean or median, rather it is better following mode!\n",
        "msno.matrix(df)"
      ],
      "execution_count": 425,
      "outputs": [
        {
          "output_type": "execute_result",
          "data": {
            "text/plain": [
              "<matplotlib.axes._subplots.AxesSubplot at 0x7f2dec39b1d0>"
            ]
          },
          "metadata": {
            "tags": []
          },
          "execution_count": 425
        },
        {
          "output_type": "display_data",
          "data": {
            "image/png": "[encoded data removed]",
            "text/plain": [
              "<Figure size 1800x720 with 2 Axes>"
            ]
          },
          "metadata": {
            "tags": [],
            "needs_background": "light"
          }
        },
        {
          "output_type": "display_data",
          "data": {
            "image/png": "[encoded data removed]",
            "text/plain": [
              "<Figure size 1800x720 with 2 Axes>"
            ]
          },
          "metadata": {
            "tags": [],
            "needs_background": "light"
          }
        },
        {
          "output_type": "display_data",
          "data": {
            "image/png": "[encoded data removed]",
            "text/plain": [
              "<Figure size 1800x720 with 2 Axes>"
            ]
          },
          "metadata": {
            "tags": [],
            "needs_background": "light"
          }
        }
      ]
    },
    {
      "cell_type": "code",
      "metadata": {
        "colab": {
          "base_uri": "https://localhost:8080/",
          "height": 1000
        },
        "id": "UylUinzys02e",
        "outputId": "d0ce068d-56fe-426d-a173-f5f3cba18d1a"
      },
      "source": [
        "df['Embarked'] = df['Embarked'].fillna('S')#impute them using majority class\n",
        "msno.matrix(df)\n",
        "\n",
        "df['SibSp'].fillna(df['SibSp'].mode()[0], inplace=True)#Mode is the best way for filling the gap as it depends on frequency\n",
        "msno.matrix(df)"
      ],
      "execution_count": 426,
      "outputs": [
        {
          "output_type": "execute_result",
          "data": {
            "text/plain": [
              "<matplotlib.axes._subplots.AxesSubplot at 0x7f2deb7608d0>"
            ]
          },
          "metadata": {
            "tags": []
          },
          "execution_count": 426
        },
        {
          "output_type": "display_data",
          "data": {
            "image/png": "[encoded data removed]",
            "text/plain": [
              "<Figure size 1800x720 with 2 Axes>"
            ]
          },
          "metadata": {
            "tags": [],
            "needs_background": "light"
          }
        },
        {
          "output_type": "display_data",
          "data": {
            "image/png": "[encoded data removed]",
            "text/plain": [
              "<Figure size 1800x720 with 2 Axes>"
            ]
          },
          "metadata": {
            "tags": [],
            "needs_background": "light"
          }
        }
      ]
    },
    {
      "cell_type": "code",
      "metadata": {
        "colab": {
          "base_uri": "https://localhost:8080/",
          "height": 1000
        },
        "id": "Y_udNxCBw4eH",
        "outputId": "73c16b7f-0582-4805-b8f4-54501e991973"
      },
      "source": [
        "df['Survived'].fillna(df['Survived'].mode()[0], inplace=True)#Mode is the best way for filling the gap as it depends on frequency\n",
        "msno.matrix(df)\n",
        "\n",
        "df['Parch'].fillna(df['Parch'].mode()[0], inplace=True)#Mode is the best way for filling the gap as it depends on frequency\n",
        "msno.matrix(df)"
      ],
      "execution_count": 427,
      "outputs": [
        {
          "output_type": "execute_result",
          "data": {
            "text/plain": [
              "<matplotlib.axes._subplots.AxesSubplot at 0x7f2deb5e6350>"
            ]
          },
          "metadata": {
            "tags": []
          },
          "execution_count": 427
        },
        {
          "output_type": "display_data",
          "data": {
            "image/png": "[encoded data removed]",
            "text/plain": [
              "<Figure size 1800x720 with 2 Axes>"
            ]
          },
          "metadata": {
            "tags": [],
            "needs_background": "light"
          }
        },
        {
          "output_type": "display_data",
          "data": {
            "image/png": "[encoded data removed]",
            "text/plain": [
              "<Figure size 1800x720 with 2 Axes>"
            ]
          },
          "metadata": {
            "tags": [],
            "needs_background": "light"
          }
        }
      ]
    },
    {
      "cell_type": "markdown",
      "metadata": {
        "id": "WHOMHUNu9GjB"
      },
      "source": [
        "Question-3"
      ]
    },
    {
      "cell_type": "code",
      "metadata": {
        "colab": {
          "base_uri": "https://localhost:8080/"
        },
        "id": "y36PXsJV9Iq6",
        "outputId": "1b3e9f0b-98e9-42e9-ea0c-2aadfd5d19ff"
      },
      "source": [
        "pip install category_encoders"
      ],
      "execution_count": 428,
      "outputs": [
        {
          "output_type": "stream",
          "text": [
            "Requirement already satisfied: category_encoders in /usr/local/lib/python3.7/dist-packages (2.2.2)\n",
            "Requirement already satisfied: statsmodels>=0.9.0 in /usr/local/lib/python3.7/dist-packages (from category_encoders) (0.10.2)\n",
            "Requirement already satisfied: pandas>=0.21.1 in /usr/local/lib/python3.7/dist-packages (from category_encoders) (1.1.5)\n",
            "Requirement already satisfied: numpy>=1.14.0 in /usr/local/lib/python3.7/dist-packages (from category_encoders) (1.19.5)\n",
            "Requirement already satisfied: scikit-learn>=0.20.0 in /usr/local/lib/python3.7/dist-packages (from category_encoders) (0.22.2.post1)\n",
            "Requirement already satisfied: scipy>=1.0.0 in /usr/local/lib/python3.7/dist-packages (from category_encoders) (1.4.1)\n",
            "Requirement already satisfied: patsy>=0.5.1 in /usr/local/lib/python3.7/dist-packages (from category_encoders) (0.5.1)\n",
            "Requirement already satisfied: python-dateutil>=2.7.3 in /usr/local/lib/python3.7/dist-packages (from pandas>=0.21.1->category_encoders) (2.8.1)\n",
            "Requirement already satisfied: pytz>=2017.2 in /usr/local/lib/python3.7/dist-packages (from pandas>=0.21.1->category_encoders) (2018.9)\n",
            "Requirement already satisfied: joblib>=0.11 in /usr/local/lib/python3.7/dist-packages (from scikit-learn>=0.20.0->category_encoders) (1.0.1)\n",
            "Requirement already satisfied: six in /usr/local/lib/python3.7/dist-packages (from patsy>=0.5.1->category_encoders) (1.15.0)\n"
          ],
          "name": "stdout"
        }
      ]
    },
    {
      "cell_type": "code",
      "metadata": {
        "id": "Z_WVxsov9S2S"
      },
      "source": [
        "import category_encoders as ce\n",
        "dataset=pd.read_csv('Titanic_ISTE.csv')\n",
        "df=pd.DataFrame(dataset)"
      ],
      "execution_count": 429,
      "outputs": []
    },
    {
      "cell_type": "code",
      "metadata": {
        "colab": {
          "base_uri": "https://localhost:8080/"
        },
        "id": "hH89Md09CDZj",
        "outputId": "efe57667-63a9-4a75-f31d-6254fc82d5cd"
      },
      "source": [
        "\n",
        "import numpy as np\n",
        "df=df.drop(columns=['Cabin','Unnamed: 12','Unnamed: 13','Unnamed: 14','Unnamed: 15','Unnamed: 16','Unnamed: 17','Fare','Ticket','Name','PassengerId','Age'])\n",
        "df_encoded = encoder.fit_transform(df)\n",
        "print(df_encoded)"
      ],
      "execution_count": 430,
      "outputs": [
        {
          "output_type": "stream",
          "text": [
            "     Survived  Pclass  Sex  SibSp  Parch Embarked\n",
            "0         0.0     3.0  0.0    1.0    0.0        S\n",
            "1         1.0     1.0  1.0    1.0    0.0        C\n",
            "2         1.0     3.0  1.0    0.0    0.0        S\n",
            "3         1.0     1.0  1.0    1.0    0.0        S\n",
            "4         0.0     3.0  0.0    0.0    0.0        S\n",
            "..        ...     ...  ...    ...    ...      ...\n",
            "886       0.0     2.0  0.0    0.0    0.0        S\n",
            "887       1.0     1.0  1.0    0.0    0.0        S\n",
            "888       0.0     3.0  1.0    1.0    2.0        S\n",
            "889       1.0     1.0  0.0    0.0    0.0        C\n",
            "890       0.0     3.0  0.0    0.0    0.0        Q\n",
            "\n",
            "[891 rows x 6 columns]\n"
          ],
          "name": "stdout"
        },
        {
          "output_type": "stream",
          "text": [
            "/usr/local/lib/python3.7/dist-packages/category_encoders/utils.py:21: FutureWarning: is_categorical is deprecated and will be removed in a future version.  Use is_categorical_dtype instead\n",
            "  elif pd.api.types.is_categorical(cols):\n"
          ],
          "name": "stderr"
        }
      ]
    },
    {
      "cell_type": "code",
      "metadata": {
        "colab": {
          "base_uri": "https://localhost:8080/"
        },
        "id": "O4i2AOKkyjzL",
        "outputId": "eb7d7c73-250b-44f6-e951-73bc76b747c8"
      },
      "source": [
        "encoder= ce.OrdinalEncoder(cols=['Embarked'],return_df=True,mapping=[{'col':'Embarked','mapping':{'C':0,'Q':1,'S':2}}])\n",
        "encoder= ce.OrdinalEncoder(cols=['Sex'],return_df=True,mapping=[{'col':'Sex','mapping':{'male':0,'female':1}}])\n",
        "\n",
        "#fit and transform train data \n",
        "df_transformed = encoder.fit_transform(df)\n",
        "print(df_transformed)"
      ],
      "execution_count": 431,
      "outputs": [
        {
          "output_type": "stream",
          "text": [
            "     Survived  Pclass  Sex  SibSp  Parch Embarked\n",
            "0         0.0     3.0  0.0    1.0    0.0        S\n",
            "1         1.0     1.0  1.0    1.0    0.0        C\n",
            "2         1.0     3.0  1.0    0.0    0.0        S\n",
            "3         1.0     1.0  1.0    1.0    0.0        S\n",
            "4         0.0     3.0  0.0    0.0    0.0        S\n",
            "..        ...     ...  ...    ...    ...      ...\n",
            "886       0.0     2.0  0.0    0.0    0.0        S\n",
            "887       1.0     1.0  1.0    0.0    0.0        S\n",
            "888       0.0     3.0  1.0    1.0    2.0        S\n",
            "889       1.0     1.0  0.0    0.0    0.0        C\n",
            "890       0.0     3.0  0.0    0.0    0.0        Q\n",
            "\n",
            "[891 rows x 6 columns]\n"
          ],
          "name": "stdout"
        },
        {
          "output_type": "stream",
          "text": [
            "/usr/local/lib/python3.7/dist-packages/category_encoders/utils.py:21: FutureWarning: is_categorical is deprecated and will be removed in a future version.  Use is_categorical_dtype instead\n",
            "  elif pd.api.types.is_categorical(cols):\n"
          ],
          "name": "stderr"
        }
      ]
    },
    {
      "cell_type": "markdown",
      "metadata": {
        "id": "xh3QG79I2tla"
      },
      "source": [
        "Question-4"
      ]
    },
    {
      "cell_type": "code",
      "metadata": {
        "colab": {
          "base_uri": "https://localhost:8080/",
          "height": 458
        },
        "id": "SDKurJn22lpW",
        "outputId": "560f2c01-9978-4e81-aa8a-dcabade4e28d"
      },
      "source": [
        "import pandas as pd\n",
        "import numpy as np\n",
        "\n",
        "X = df.iloc[:, :].values\n",
        "dataset=pd.read_csv('Titanic_ISTE.csv')\n",
        "df=pd.DataFrame(dataset)\n",
        "df=df.drop(columns=['Cabin','Unnamed: 12','Unnamed: 13','Unnamed: 14','Unnamed: 15','Unnamed: 16','Unnamed: 17','Fare','Ticket','Name','PassengerId','Age'])\n",
        "df['Embarked']=df['Embarked'].map({'C':0,'Q':1,'S':2})\n",
        "encoder= ce.OrdinalEncoder(cols=['Sex'],return_df=True,mapping=[{'col':'Sex','mapping':{'male':0,'female':1}}])\n",
        "df = encoder.fit_transform(df)\n",
        "df"
      ],
      "execution_count": 447,
      "outputs": [
        {
          "output_type": "stream",
          "text": [
            "/usr/local/lib/python3.7/dist-packages/category_encoders/utils.py:21: FutureWarning: is_categorical is deprecated and will be removed in a future version.  Use is_categorical_dtype instead\n",
            "  elif pd.api.types.is_categorical(cols):\n"
          ],
          "name": "stderr"
        },
        {
          "output_type": "execute_result",
          "data": {
            "text/html": [
              "<div>\n",
              "<style scoped>\n",
              "    .dataframe tbody tr th:only-of-type {\n",
              "        vertical-align: middle;\n",
              "    }\n",
              "\n",
              "    .dataframe tbody tr th {\n",
              "        vertical-align: top;\n",
              "    }\n",
              "\n",
              "    .dataframe thead th {\n",
              "        text-align: right;\n",
              "    }\n",
              "</style>\n",
              "<table border=\"1\" class=\"dataframe\">\n",
              "  <thead>\n",
              "    <tr style=\"text-align: right;\">\n",
              "      <th></th>\n",
              "      <th>Survived</th>\n",
              "      <th>Pclass</th>\n",
              "      <th>Sex</th>\n",
              "      <th>SibSp</th>\n",
              "      <th>Parch</th>\n",
              "      <th>Embarked</th>\n",
              "    </tr>\n",
              "  </thead>\n",
              "  <tbody>\n",
              "    <tr>\n",
              "      <th>0</th>\n",
              "      <td>0.0</td>\n",
              "      <td>3.0</td>\n",
              "      <td>0.0</td>\n",
              "      <td>1.0</td>\n",
              "      <td>0.0</td>\n",
              "      <td>2.0</td>\n",
              "    </tr>\n",
              "    <tr>\n",
              "      <th>1</th>\n",
              "      <td>1.0</td>\n",
              "      <td>1.0</td>\n",
              "      <td>1.0</td>\n",
              "      <td>1.0</td>\n",
              "      <td>0.0</td>\n",
              "      <td>0.0</td>\n",
              "    </tr>\n",
              "    <tr>\n",
              "      <th>2</th>\n",
              "      <td>1.0</td>\n",
              "      <td>3.0</td>\n",
              "      <td>1.0</td>\n",
              "      <td>0.0</td>\n",
              "      <td>0.0</td>\n",
              "      <td>2.0</td>\n",
              "    </tr>\n",
              "    <tr>\n",
              "      <th>3</th>\n",
              "      <td>1.0</td>\n",
              "      <td>1.0</td>\n",
              "      <td>1.0</td>\n",
              "      <td>1.0</td>\n",
              "      <td>0.0</td>\n",
              "      <td>2.0</td>\n",
              "    </tr>\n",
              "    <tr>\n",
              "      <th>4</th>\n",
              "      <td>0.0</td>\n",
              "      <td>3.0</td>\n",
              "      <td>0.0</td>\n",
              "      <td>0.0</td>\n",
              "      <td>0.0</td>\n",
              "      <td>2.0</td>\n",
              "    </tr>\n",
              "    <tr>\n",
              "      <th>...</th>\n",
              "      <td>...</td>\n",
              "      <td>...</td>\n",
              "      <td>...</td>\n",
              "      <td>...</td>\n",
              "      <td>...</td>\n",
              "      <td>...</td>\n",
              "    </tr>\n",
              "    <tr>\n",
              "      <th>886</th>\n",
              "      <td>0.0</td>\n",
              "      <td>2.0</td>\n",
              "      <td>0.0</td>\n",
              "      <td>0.0</td>\n",
              "      <td>0.0</td>\n",
              "      <td>2.0</td>\n",
              "    </tr>\n",
              "    <tr>\n",
              "      <th>887</th>\n",
              "      <td>1.0</td>\n",
              "      <td>1.0</td>\n",
              "      <td>1.0</td>\n",
              "      <td>0.0</td>\n",
              "      <td>0.0</td>\n",
              "      <td>2.0</td>\n",
              "    </tr>\n",
              "    <tr>\n",
              "      <th>888</th>\n",
              "      <td>0.0</td>\n",
              "      <td>3.0</td>\n",
              "      <td>1.0</td>\n",
              "      <td>1.0</td>\n",
              "      <td>2.0</td>\n",
              "      <td>2.0</td>\n",
              "    </tr>\n",
              "    <tr>\n",
              "      <th>889</th>\n",
              "      <td>1.0</td>\n",
              "      <td>1.0</td>\n",
              "      <td>0.0</td>\n",
              "      <td>0.0</td>\n",
              "      <td>0.0</td>\n",
              "      <td>0.0</td>\n",
              "    </tr>\n",
              "    <tr>\n",
              "      <th>890</th>\n",
              "      <td>0.0</td>\n",
              "      <td>3.0</td>\n",
              "      <td>0.0</td>\n",
              "      <td>0.0</td>\n",
              "      <td>0.0</td>\n",
              "      <td>1.0</td>\n",
              "    </tr>\n",
              "  </tbody>\n",
              "</table>\n",
              "<p>891 rows × 6 columns</p>\n",
              "</div>"
            ],
            "text/plain": [
              "     Survived  Pclass  Sex  SibSp  Parch  Embarked\n",
              "0         0.0     3.0  0.0    1.0    0.0       2.0\n",
              "1         1.0     1.0  1.0    1.0    0.0       0.0\n",
              "2         1.0     3.0  1.0    0.0    0.0       2.0\n",
              "3         1.0     1.0  1.0    1.0    0.0       2.0\n",
              "4         0.0     3.0  0.0    0.0    0.0       2.0\n",
              "..        ...     ...  ...    ...    ...       ...\n",
              "886       0.0     2.0  0.0    0.0    0.0       2.0\n",
              "887       1.0     1.0  1.0    0.0    0.0       2.0\n",
              "888       0.0     3.0  1.0    1.0    2.0       2.0\n",
              "889       1.0     1.0  0.0    0.0    0.0       0.0\n",
              "890       0.0     3.0  0.0    0.0    0.0       1.0\n",
              "\n",
              "[891 rows x 6 columns]"
            ]
          },
          "metadata": {
            "tags": []
          },
          "execution_count": 447
        }
      ]
    },
    {
      "cell_type": "code",
      "metadata": {
        "colab": {
          "base_uri": "https://localhost:8080/"
        },
        "id": "L2knnxBn3RJ4",
        "outputId": "3761128a-a37c-4c21-9ca3-4ff381de03f7"
      },
      "source": [
        "from sklearn.preprocessing import MinMaxScaler\n",
        "norm = MinMaxScaler()\n",
        "X[:, 1:6] = norm.fit_transform(X[:, 1:6])\n",
        "print(X)"
      ],
      "execution_count": 446,
      "outputs": [
        {
          "output_type": "stream",
          "text": [
            "[[0.         1.         0.5        0.125      0.         1.        ]\n",
            " [1.         0.         1.         0.125      0.         0.        ]\n",
            " [1.         1.         1.         0.         0.         1.        ]\n",
            " ...\n",
            " [0.         1.         1.         0.125      0.33333333 1.        ]\n",
            " [1.         0.         0.5        0.         0.         0.        ]\n",
            " [0.         1.         0.5        0.         0.         0.5       ]]\n"
          ],
          "name": "stdout"
        }
      ]
    }
  ]
}